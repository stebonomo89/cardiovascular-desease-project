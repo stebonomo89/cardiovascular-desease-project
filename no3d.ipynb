{
 "cells": [
  {
   "cell_type": "markdown",
   "id": "64d30c8a",
   "metadata": {},
   "source": [
    "# CARDIOVASCULAR DISEASE - CLASSIFICATION TECHNIQUES\n",
    "\n",
    "This is a dataset containing 12 explanatory variables describing patients.\n",
    "data set available at this link: https://www.kaggle.com/datasets/sulianova/cardiovascular-disease-dataset\n",
    "\n",
    "Here I will compare several classification techniques:\n",
    "\n",
    "Random Forest model\n",
    "\n",
    "SVC model \n",
    "\n",
    "KNN model\n",
    "\n",
    "\n",
    "Data features:\n",
    "\n",
    "Age | Objective Feature | age | int (days)\n",
    "\n",
    "Height | Objective Feature | height | int (cm) |\n",
    "\n",
    "Weight | Objective Feature | weight | float (kg) |\n",
    "\n",
    "Gender | Objective Feature | gender | categorical code |\n",
    "\n",
    "Systolic blood pressure | Examination Feature | ap_hi | int |\n",
    "\n",
    "Diastolic blood pressure | Examination Feature | ap_lo | int |\n",
    "\n",
    "Cholesterol | Examination Feature | cholesterol | 1: normal, 2: above normal, 3: well above normal |\n",
    "\n",
    "Glucose | Examination Feature | gluc | 1: normal, 2: above normal, 3: well above normal |\n",
    "\n",
    "Smoking | Subjective Feature | smoke | binary |\n",
    "\n",
    "Alcohol intake | Subjective Feature | alco | binary |\n",
    "\n",
    "Physical activity | Subjective Feature | active | binary |\n",
    "\n",
    "Presence or absence of cardiovascular disease | Target Variable | cardio | binary |"
   ]
  },
  {
   "cell_type": "code",
   "execution_count": 1,
   "id": "1f5409ba",
   "metadata": {},
   "outputs": [],
   "source": [
    "import numpy as np\n",
    "import pandas as pd\n",
    "import plotly.express as px\n",
    "import plotly.graph_objects as go\n",
    "import seaborn as sns\n",
    "import matplotlib.pyplot as plt\n",
    "%matplotlib inline"
   ]
  },
  {
   "cell_type": "code",
   "execution_count": 2,
   "id": "92b405c0",
   "metadata": {},
   "outputs": [
    {
     "data": {
      "text/html": [
       "<style type=\"text/css\">\n",
       "#T_37c9a_row0_col0 {\n",
       "  background-color: #fedcbb;\n",
       "  color: #000000;\n",
       "}\n",
       "#T_37c9a_row0_col1, #T_37c9a_row0_col10, #T_37c9a_row1_col6, #T_37c9a_row1_col10, #T_37c9a_row1_col11, #T_37c9a_row2_col6, #T_37c9a_row2_col11, #T_37c9a_row3_col1, #T_37c9a_row3_col4, #T_37c9a_row3_col5, #T_37c9a_row3_col10, #T_37c9a_row3_col11, #T_37c9a_row6_col6, #T_37c9a_row6_col10, #T_37c9a_row7_col0, #T_37c9a_row7_col1, #T_37c9a_row7_col2, #T_37c9a_row7_col3, #T_37c9a_row7_col6, #T_37c9a_row7_col7, #T_37c9a_row7_col10, #T_37c9a_row7_col11, #T_37c9a_row8_col10 {\n",
       "  background-color: #7f2704;\n",
       "  color: #f1f1f1;\n",
       "}\n",
       "#T_37c9a_row0_col2 {\n",
       "  background-color: #f06712;\n",
       "  color: #f1f1f1;\n",
       "}\n",
       "#T_37c9a_row0_col3 {\n",
       "  background-color: #fee1c4;\n",
       "  color: #000000;\n",
       "}\n",
       "#T_37c9a_row0_col4, #T_37c9a_row8_col4, #T_37c9a_row9_col4 {\n",
       "  background-color: #fdd9b4;\n",
       "  color: #000000;\n",
       "}\n",
       "#T_37c9a_row0_col5, #T_37c9a_row5_col5, #T_37c9a_row5_col6, #T_37c9a_row5_col7, #T_37c9a_row6_col5 {\n",
       "  background-color: #fd8c3b;\n",
       "  color: #f1f1f1;\n",
       "}\n",
       "#T_37c9a_row0_col6, #T_37c9a_row0_col7, #T_37c9a_row0_col8, #T_37c9a_row0_col9, #T_37c9a_row0_col11, #T_37c9a_row1_col1, #T_37c9a_row1_col7, #T_37c9a_row1_col8, #T_37c9a_row1_col9, #T_37c9a_row2_col1, #T_37c9a_row2_col7, #T_37c9a_row2_col8, #T_37c9a_row2_col9, #T_37c9a_row2_col10, #T_37c9a_row3_col6, #T_37c9a_row3_col7, #T_37c9a_row3_col8, #T_37c9a_row3_col9, #T_37c9a_row4_col0, #T_37c9a_row4_col1, #T_37c9a_row4_col3, #T_37c9a_row4_col4, #T_37c9a_row4_col5, #T_37c9a_row4_col6, #T_37c9a_row4_col7, #T_37c9a_row4_col8, #T_37c9a_row4_col9, #T_37c9a_row4_col10, #T_37c9a_row4_col11, #T_37c9a_row5_col1, #T_37c9a_row5_col2, #T_37c9a_row5_col8, #T_37c9a_row5_col9, #T_37c9a_row5_col10, #T_37c9a_row5_col11, #T_37c9a_row6_col1, #T_37c9a_row6_col7, #T_37c9a_row6_col8, #T_37c9a_row6_col9, #T_37c9a_row6_col11, #T_37c9a_row7_col8, #T_37c9a_row7_col9, #T_37c9a_row8_col1, #T_37c9a_row8_col6, #T_37c9a_row8_col7, #T_37c9a_row8_col8, #T_37c9a_row8_col9, #T_37c9a_row8_col11, #T_37c9a_row9_col1, #T_37c9a_row9_col5, #T_37c9a_row9_col6, #T_37c9a_row9_col7, #T_37c9a_row9_col8, #T_37c9a_row9_col9, #T_37c9a_row9_col10, #T_37c9a_row9_col11 {\n",
       "  background-color: #fff5eb;\n",
       "  color: #000000;\n",
       "}\n",
       "#T_37c9a_row1_col0 {\n",
       "  background-color: #f98230;\n",
       "  color: #f1f1f1;\n",
       "}\n",
       "#T_37c9a_row1_col2, #T_37c9a_row4_col2 {\n",
       "  background-color: #fedcb9;\n",
       "  color: #000000;\n",
       "}\n",
       "#T_37c9a_row1_col3 {\n",
       "  background-color: #da4902;\n",
       "  color: #f1f1f1;\n",
       "}\n",
       "#T_37c9a_row1_col4 {\n",
       "  background-color: #c54102;\n",
       "  color: #f1f1f1;\n",
       "}\n",
       "#T_37c9a_row1_col5, #T_37c9a_row7_col5 {\n",
       "  background-color: #d84801;\n",
       "  color: #f1f1f1;\n",
       "}\n",
       "#T_37c9a_row2_col0 {\n",
       "  background-color: #fdca99;\n",
       "  color: #000000;\n",
       "}\n",
       "#T_37c9a_row2_col2 {\n",
       "  background-color: #fb8836;\n",
       "  color: #f1f1f1;\n",
       "}\n",
       "#T_37c9a_row2_col3 {\n",
       "  background-color: #fdd8b2;\n",
       "  color: #000000;\n",
       "}\n",
       "#T_37c9a_row2_col4, #T_37c9a_row6_col4, #T_37c9a_row7_col4 {\n",
       "  background-color: #f3701b;\n",
       "  color: #f1f1f1;\n",
       "}\n",
       "#T_37c9a_row2_col5, #T_37c9a_row8_col5 {\n",
       "  background-color: #fdd0a2;\n",
       "  color: #000000;\n",
       "}\n",
       "#T_37c9a_row3_col0 {\n",
       "  background-color: #fff2e5;\n",
       "  color: #000000;\n",
       "}\n",
       "#T_37c9a_row3_col2, #T_37c9a_row3_col3 {\n",
       "  background-color: #e95e0d;\n",
       "  color: #f1f1f1;\n",
       "}\n",
       "#T_37c9a_row5_col0 {\n",
       "  background-color: #a83703;\n",
       "  color: #f1f1f1;\n",
       "}\n",
       "#T_37c9a_row5_col3 {\n",
       "  background-color: #fdc794;\n",
       "  color: #000000;\n",
       "}\n",
       "#T_37c9a_row5_col4 {\n",
       "  background-color: #fda762;\n",
       "  color: #000000;\n",
       "}\n",
       "#T_37c9a_row6_col0 {\n",
       "  background-color: #9b3203;\n",
       "  color: #f1f1f1;\n",
       "}\n",
       "#T_37c9a_row6_col2 {\n",
       "  background-color: #fdd5ad;\n",
       "  color: #000000;\n",
       "}\n",
       "#T_37c9a_row6_col3 {\n",
       "  background-color: #8f2d04;\n",
       "  color: #f1f1f1;\n",
       "}\n",
       "#T_37c9a_row8_col0 {\n",
       "  background-color: #fff1e3;\n",
       "  color: #000000;\n",
       "}\n",
       "#T_37c9a_row8_col2 {\n",
       "  background-color: #fdce9e;\n",
       "  color: #000000;\n",
       "}\n",
       "#T_37c9a_row8_col3 {\n",
       "  background-color: #fdac67;\n",
       "  color: #000000;\n",
       "}\n",
       "#T_37c9a_row9_col0 {\n",
       "  background-color: #fd974a;\n",
       "  color: #000000;\n",
       "}\n",
       "#T_37c9a_row9_col2 {\n",
       "  background-color: #fd9243;\n",
       "  color: #000000;\n",
       "}\n",
       "#T_37c9a_row9_col3 {\n",
       "  background-color: #fdc189;\n",
       "  color: #000000;\n",
       "}\n",
       "</style>\n",
       "<table id=\"T_37c9a\">\n",
       "  <thead>\n",
       "    <tr>\n",
       "      <th class=\"blank level0\" >&nbsp;</th>\n",
       "      <th id=\"T_37c9a_level0_col0\" class=\"col_heading level0 col0\" >age</th>\n",
       "      <th id=\"T_37c9a_level0_col1\" class=\"col_heading level0 col1\" >gender</th>\n",
       "      <th id=\"T_37c9a_level0_col2\" class=\"col_heading level0 col2\" >height</th>\n",
       "      <th id=\"T_37c9a_level0_col3\" class=\"col_heading level0 col3\" >weight</th>\n",
       "      <th id=\"T_37c9a_level0_col4\" class=\"col_heading level0 col4\" >ap_hi</th>\n",
       "      <th id=\"T_37c9a_level0_col5\" class=\"col_heading level0 col5\" >ap_lo</th>\n",
       "      <th id=\"T_37c9a_level0_col6\" class=\"col_heading level0 col6\" >cholesterol</th>\n",
       "      <th id=\"T_37c9a_level0_col7\" class=\"col_heading level0 col7\" >gluc</th>\n",
       "      <th id=\"T_37c9a_level0_col8\" class=\"col_heading level0 col8\" >smoke</th>\n",
       "      <th id=\"T_37c9a_level0_col9\" class=\"col_heading level0 col9\" >alco</th>\n",
       "      <th id=\"T_37c9a_level0_col10\" class=\"col_heading level0 col10\" >active</th>\n",
       "      <th id=\"T_37c9a_level0_col11\" class=\"col_heading level0 col11\" >cardio</th>\n",
       "    </tr>\n",
       "    <tr>\n",
       "      <th class=\"index_name level0\" >id</th>\n",
       "      <th class=\"blank col0\" >&nbsp;</th>\n",
       "      <th class=\"blank col1\" >&nbsp;</th>\n",
       "      <th class=\"blank col2\" >&nbsp;</th>\n",
       "      <th class=\"blank col3\" >&nbsp;</th>\n",
       "      <th class=\"blank col4\" >&nbsp;</th>\n",
       "      <th class=\"blank col5\" >&nbsp;</th>\n",
       "      <th class=\"blank col6\" >&nbsp;</th>\n",
       "      <th class=\"blank col7\" >&nbsp;</th>\n",
       "      <th class=\"blank col8\" >&nbsp;</th>\n",
       "      <th class=\"blank col9\" >&nbsp;</th>\n",
       "      <th class=\"blank col10\" >&nbsp;</th>\n",
       "      <th class=\"blank col11\" >&nbsp;</th>\n",
       "    </tr>\n",
       "  </thead>\n",
       "  <tbody>\n",
       "    <tr>\n",
       "      <th id=\"T_37c9a_level0_row0\" class=\"row_heading level0 row0\" >0</th>\n",
       "      <td id=\"T_37c9a_row0_col0\" class=\"data row0 col0\" >18393</td>\n",
       "      <td id=\"T_37c9a_row0_col1\" class=\"data row0 col1\" >2</td>\n",
       "      <td id=\"T_37c9a_row0_col2\" class=\"data row0 col2\" >168</td>\n",
       "      <td id=\"T_37c9a_row0_col3\" class=\"data row0 col3\" >62.000000</td>\n",
       "      <td id=\"T_37c9a_row0_col4\" class=\"data row0 col4\" >110</td>\n",
       "      <td id=\"T_37c9a_row0_col5\" class=\"data row0 col5\" >80</td>\n",
       "      <td id=\"T_37c9a_row0_col6\" class=\"data row0 col6\" >1</td>\n",
       "      <td id=\"T_37c9a_row0_col7\" class=\"data row0 col7\" >1</td>\n",
       "      <td id=\"T_37c9a_row0_col8\" class=\"data row0 col8\" >0</td>\n",
       "      <td id=\"T_37c9a_row0_col9\" class=\"data row0 col9\" >0</td>\n",
       "      <td id=\"T_37c9a_row0_col10\" class=\"data row0 col10\" >1</td>\n",
       "      <td id=\"T_37c9a_row0_col11\" class=\"data row0 col11\" >0</td>\n",
       "    </tr>\n",
       "    <tr>\n",
       "      <th id=\"T_37c9a_level0_row1\" class=\"row_heading level0 row1\" >1</th>\n",
       "      <td id=\"T_37c9a_row1_col0\" class=\"data row1 col0\" >20228</td>\n",
       "      <td id=\"T_37c9a_row1_col1\" class=\"data row1 col1\" >1</td>\n",
       "      <td id=\"T_37c9a_row1_col2\" class=\"data row1 col2\" >156</td>\n",
       "      <td id=\"T_37c9a_row1_col3\" class=\"data row1 col3\" >85.000000</td>\n",
       "      <td id=\"T_37c9a_row1_col4\" class=\"data row1 col4\" >140</td>\n",
       "      <td id=\"T_37c9a_row1_col5\" class=\"data row1 col5\" >90</td>\n",
       "      <td id=\"T_37c9a_row1_col6\" class=\"data row1 col6\" >3</td>\n",
       "      <td id=\"T_37c9a_row1_col7\" class=\"data row1 col7\" >1</td>\n",
       "      <td id=\"T_37c9a_row1_col8\" class=\"data row1 col8\" >0</td>\n",
       "      <td id=\"T_37c9a_row1_col9\" class=\"data row1 col9\" >0</td>\n",
       "      <td id=\"T_37c9a_row1_col10\" class=\"data row1 col10\" >1</td>\n",
       "      <td id=\"T_37c9a_row1_col11\" class=\"data row1 col11\" >1</td>\n",
       "    </tr>\n",
       "    <tr>\n",
       "      <th id=\"T_37c9a_level0_row2\" class=\"row_heading level0 row2\" >2</th>\n",
       "      <td id=\"T_37c9a_row2_col0\" class=\"data row2 col0\" >18857</td>\n",
       "      <td id=\"T_37c9a_row2_col1\" class=\"data row2 col1\" >1</td>\n",
       "      <td id=\"T_37c9a_row2_col2\" class=\"data row2 col2\" >165</td>\n",
       "      <td id=\"T_37c9a_row2_col3\" class=\"data row2 col3\" >64.000000</td>\n",
       "      <td id=\"T_37c9a_row2_col4\" class=\"data row2 col4\" >130</td>\n",
       "      <td id=\"T_37c9a_row2_col5\" class=\"data row2 col5\" >70</td>\n",
       "      <td id=\"T_37c9a_row2_col6\" class=\"data row2 col6\" >3</td>\n",
       "      <td id=\"T_37c9a_row2_col7\" class=\"data row2 col7\" >1</td>\n",
       "      <td id=\"T_37c9a_row2_col8\" class=\"data row2 col8\" >0</td>\n",
       "      <td id=\"T_37c9a_row2_col9\" class=\"data row2 col9\" >0</td>\n",
       "      <td id=\"T_37c9a_row2_col10\" class=\"data row2 col10\" >0</td>\n",
       "      <td id=\"T_37c9a_row2_col11\" class=\"data row2 col11\" >1</td>\n",
       "    </tr>\n",
       "    <tr>\n",
       "      <th id=\"T_37c9a_level0_row3\" class=\"row_heading level0 row3\" >3</th>\n",
       "      <td id=\"T_37c9a_row3_col0\" class=\"data row3 col0\" >17623</td>\n",
       "      <td id=\"T_37c9a_row3_col1\" class=\"data row3 col1\" >2</td>\n",
       "      <td id=\"T_37c9a_row3_col2\" class=\"data row3 col2\" >169</td>\n",
       "      <td id=\"T_37c9a_row3_col3\" class=\"data row3 col3\" >82.000000</td>\n",
       "      <td id=\"T_37c9a_row3_col4\" class=\"data row3 col4\" >150</td>\n",
       "      <td id=\"T_37c9a_row3_col5\" class=\"data row3 col5\" >100</td>\n",
       "      <td id=\"T_37c9a_row3_col6\" class=\"data row3 col6\" >1</td>\n",
       "      <td id=\"T_37c9a_row3_col7\" class=\"data row3 col7\" >1</td>\n",
       "      <td id=\"T_37c9a_row3_col8\" class=\"data row3 col8\" >0</td>\n",
       "      <td id=\"T_37c9a_row3_col9\" class=\"data row3 col9\" >0</td>\n",
       "      <td id=\"T_37c9a_row3_col10\" class=\"data row3 col10\" >1</td>\n",
       "      <td id=\"T_37c9a_row3_col11\" class=\"data row3 col11\" >1</td>\n",
       "    </tr>\n",
       "    <tr>\n",
       "      <th id=\"T_37c9a_level0_row4\" class=\"row_heading level0 row4\" >4</th>\n",
       "      <td id=\"T_37c9a_row4_col0\" class=\"data row4 col0\" >17474</td>\n",
       "      <td id=\"T_37c9a_row4_col1\" class=\"data row4 col1\" >1</td>\n",
       "      <td id=\"T_37c9a_row4_col2\" class=\"data row4 col2\" >156</td>\n",
       "      <td id=\"T_37c9a_row4_col3\" class=\"data row4 col3\" >56.000000</td>\n",
       "      <td id=\"T_37c9a_row4_col4\" class=\"data row4 col4\" >100</td>\n",
       "      <td id=\"T_37c9a_row4_col5\" class=\"data row4 col5\" >60</td>\n",
       "      <td id=\"T_37c9a_row4_col6\" class=\"data row4 col6\" >1</td>\n",
       "      <td id=\"T_37c9a_row4_col7\" class=\"data row4 col7\" >1</td>\n",
       "      <td id=\"T_37c9a_row4_col8\" class=\"data row4 col8\" >0</td>\n",
       "      <td id=\"T_37c9a_row4_col9\" class=\"data row4 col9\" >0</td>\n",
       "      <td id=\"T_37c9a_row4_col10\" class=\"data row4 col10\" >0</td>\n",
       "      <td id=\"T_37c9a_row4_col11\" class=\"data row4 col11\" >0</td>\n",
       "    </tr>\n",
       "    <tr>\n",
       "      <th id=\"T_37c9a_level0_row5\" class=\"row_heading level0 row5\" >8</th>\n",
       "      <td id=\"T_37c9a_row5_col0\" class=\"data row5 col0\" >21914</td>\n",
       "      <td id=\"T_37c9a_row5_col1\" class=\"data row5 col1\" >1</td>\n",
       "      <td id=\"T_37c9a_row5_col2\" class=\"data row5 col2\" >151</td>\n",
       "      <td id=\"T_37c9a_row5_col3\" class=\"data row5 col3\" >67.000000</td>\n",
       "      <td id=\"T_37c9a_row5_col4\" class=\"data row5 col4\" >120</td>\n",
       "      <td id=\"T_37c9a_row5_col5\" class=\"data row5 col5\" >80</td>\n",
       "      <td id=\"T_37c9a_row5_col6\" class=\"data row5 col6\" >2</td>\n",
       "      <td id=\"T_37c9a_row5_col7\" class=\"data row5 col7\" >2</td>\n",
       "      <td id=\"T_37c9a_row5_col8\" class=\"data row5 col8\" >0</td>\n",
       "      <td id=\"T_37c9a_row5_col9\" class=\"data row5 col9\" >0</td>\n",
       "      <td id=\"T_37c9a_row5_col10\" class=\"data row5 col10\" >0</td>\n",
       "      <td id=\"T_37c9a_row5_col11\" class=\"data row5 col11\" >0</td>\n",
       "    </tr>\n",
       "    <tr>\n",
       "      <th id=\"T_37c9a_level0_row6\" class=\"row_heading level0 row6\" >9</th>\n",
       "      <td id=\"T_37c9a_row6_col0\" class=\"data row6 col0\" >22113</td>\n",
       "      <td id=\"T_37c9a_row6_col1\" class=\"data row6 col1\" >1</td>\n",
       "      <td id=\"T_37c9a_row6_col2\" class=\"data row6 col2\" >157</td>\n",
       "      <td id=\"T_37c9a_row6_col3\" class=\"data row6 col3\" >93.000000</td>\n",
       "      <td id=\"T_37c9a_row6_col4\" class=\"data row6 col4\" >130</td>\n",
       "      <td id=\"T_37c9a_row6_col5\" class=\"data row6 col5\" >80</td>\n",
       "      <td id=\"T_37c9a_row6_col6\" class=\"data row6 col6\" >3</td>\n",
       "      <td id=\"T_37c9a_row6_col7\" class=\"data row6 col7\" >1</td>\n",
       "      <td id=\"T_37c9a_row6_col8\" class=\"data row6 col8\" >0</td>\n",
       "      <td id=\"T_37c9a_row6_col9\" class=\"data row6 col9\" >0</td>\n",
       "      <td id=\"T_37c9a_row6_col10\" class=\"data row6 col10\" >1</td>\n",
       "      <td id=\"T_37c9a_row6_col11\" class=\"data row6 col11\" >0</td>\n",
       "    </tr>\n",
       "    <tr>\n",
       "      <th id=\"T_37c9a_level0_row7\" class=\"row_heading level0 row7\" >12</th>\n",
       "      <td id=\"T_37c9a_row7_col0\" class=\"data row7 col0\" >22584</td>\n",
       "      <td id=\"T_37c9a_row7_col1\" class=\"data row7 col1\" >2</td>\n",
       "      <td id=\"T_37c9a_row7_col2\" class=\"data row7 col2\" >178</td>\n",
       "      <td id=\"T_37c9a_row7_col3\" class=\"data row7 col3\" >95.000000</td>\n",
       "      <td id=\"T_37c9a_row7_col4\" class=\"data row7 col4\" >130</td>\n",
       "      <td id=\"T_37c9a_row7_col5\" class=\"data row7 col5\" >90</td>\n",
       "      <td id=\"T_37c9a_row7_col6\" class=\"data row7 col6\" >3</td>\n",
       "      <td id=\"T_37c9a_row7_col7\" class=\"data row7 col7\" >3</td>\n",
       "      <td id=\"T_37c9a_row7_col8\" class=\"data row7 col8\" >0</td>\n",
       "      <td id=\"T_37c9a_row7_col9\" class=\"data row7 col9\" >0</td>\n",
       "      <td id=\"T_37c9a_row7_col10\" class=\"data row7 col10\" >1</td>\n",
       "      <td id=\"T_37c9a_row7_col11\" class=\"data row7 col11\" >1</td>\n",
       "    </tr>\n",
       "    <tr>\n",
       "      <th id=\"T_37c9a_level0_row8\" class=\"row_heading level0 row8\" >13</th>\n",
       "      <td id=\"T_37c9a_row8_col0\" class=\"data row8 col0\" >17668</td>\n",
       "      <td id=\"T_37c9a_row8_col1\" class=\"data row8 col1\" >1</td>\n",
       "      <td id=\"T_37c9a_row8_col2\" class=\"data row8 col2\" >158</td>\n",
       "      <td id=\"T_37c9a_row8_col3\" class=\"data row8 col3\" >71.000000</td>\n",
       "      <td id=\"T_37c9a_row8_col4\" class=\"data row8 col4\" >110</td>\n",
       "      <td id=\"T_37c9a_row8_col5\" class=\"data row8 col5\" >70</td>\n",
       "      <td id=\"T_37c9a_row8_col6\" class=\"data row8 col6\" >1</td>\n",
       "      <td id=\"T_37c9a_row8_col7\" class=\"data row8 col7\" >1</td>\n",
       "      <td id=\"T_37c9a_row8_col8\" class=\"data row8 col8\" >0</td>\n",
       "      <td id=\"T_37c9a_row8_col9\" class=\"data row8 col9\" >0</td>\n",
       "      <td id=\"T_37c9a_row8_col10\" class=\"data row8 col10\" >1</td>\n",
       "      <td id=\"T_37c9a_row8_col11\" class=\"data row8 col11\" >0</td>\n",
       "    </tr>\n",
       "    <tr>\n",
       "      <th id=\"T_37c9a_level0_row9\" class=\"row_heading level0 row9\" >14</th>\n",
       "      <td id=\"T_37c9a_row9_col0\" class=\"data row9 col0\" >19834</td>\n",
       "      <td id=\"T_37c9a_row9_col1\" class=\"data row9 col1\" >1</td>\n",
       "      <td id=\"T_37c9a_row9_col2\" class=\"data row9 col2\" >164</td>\n",
       "      <td id=\"T_37c9a_row9_col3\" class=\"data row9 col3\" >68.000000</td>\n",
       "      <td id=\"T_37c9a_row9_col4\" class=\"data row9 col4\" >110</td>\n",
       "      <td id=\"T_37c9a_row9_col5\" class=\"data row9 col5\" >60</td>\n",
       "      <td id=\"T_37c9a_row9_col6\" class=\"data row9 col6\" >1</td>\n",
       "      <td id=\"T_37c9a_row9_col7\" class=\"data row9 col7\" >1</td>\n",
       "      <td id=\"T_37c9a_row9_col8\" class=\"data row9 col8\" >0</td>\n",
       "      <td id=\"T_37c9a_row9_col9\" class=\"data row9 col9\" >0</td>\n",
       "      <td id=\"T_37c9a_row9_col10\" class=\"data row9 col10\" >0</td>\n",
       "      <td id=\"T_37c9a_row9_col11\" class=\"data row9 col11\" >0</td>\n",
       "    </tr>\n",
       "  </tbody>\n",
       "</table>\n"
      ],
      "text/plain": [
       "<pandas.io.formats.style.Styler at 0x7fda68c874f0>"
      ]
     },
     "execution_count": 2,
     "metadata": {},
     "output_type": "execute_result"
    }
   ],
   "source": [
    "train = pd.read_csv('cardio_train.csv',delimiter = ';',index_col= 'id')\n",
    "train.head(n = 10).style.background_gradient(cmap = \"Oranges\")"
   ]
  },
  {
   "cell_type": "code",
   "execution_count": 3,
   "id": "aeb3e03d",
   "metadata": {},
   "outputs": [
    {
     "name": "stdout",
     "output_type": "stream",
     "text": [
      "<class 'pandas.core.frame.DataFrame'>\n",
      "Int64Index: 70000 entries, 0 to 99999\n",
      "Data columns (total 12 columns):\n",
      " #   Column       Non-Null Count  Dtype  \n",
      "---  ------       --------------  -----  \n",
      " 0   age          70000 non-null  int64  \n",
      " 1   gender       70000 non-null  int64  \n",
      " 2   height       70000 non-null  int64  \n",
      " 3   weight       70000 non-null  float64\n",
      " 4   ap_hi        70000 non-null  int64  \n",
      " 5   ap_lo        70000 non-null  int64  \n",
      " 6   cholesterol  70000 non-null  int64  \n",
      " 7   gluc         70000 non-null  int64  \n",
      " 8   smoke        70000 non-null  int64  \n",
      " 9   alco         70000 non-null  int64  \n",
      " 10  active       70000 non-null  int64  \n",
      " 11  cardio       70000 non-null  int64  \n",
      "dtypes: float64(1), int64(11)\n",
      "memory usage: 6.9 MB\n"
     ]
    }
   ],
   "source": [
    "train.info()"
   ]
  },
  {
   "cell_type": "code",
   "execution_count": 4,
   "id": "1fc0adc2",
   "metadata": {},
   "outputs": [
    {
     "data": {
      "text/plain": [
       "<AxesSubplot:ylabel='id'>"
      ]
     },
     "execution_count": 4,
     "metadata": {},
     "output_type": "execute_result"
    },
    {
     "data": {
      "image/png": "[encoded data removed]",
      "text/plain": [
       "<Figure size 1080x1080 with 2 Axes>"
      ]
     },
     "metadata": {
      "needs_background": "light"
     },
     "output_type": "display_data"
    }
   ],
   "source": [
    "plt.figure(figsize=(15,15))\n",
    "sns.heatmap(train.isnull(),cmap='viridis')"
   ]
  },
  {
   "cell_type": "markdown",
   "id": "25259361",
   "metadata": {},
   "source": [
    "Adding two useful columns: body mass index and blood pressure category"
   ]
  },
  {
   "cell_type": "code",
   "execution_count": 5,
   "id": "c0d84bc9",
   "metadata": {},
   "outputs": [],
   "source": [
    "train.insert(8, 'bmi', round((train['weight']/(train['height']/100)**2), 2))"
   ]
  },
  {
   "cell_type": "code",
   "execution_count": 6,
   "id": "0671d707",
   "metadata": {},
   "outputs": [
    {
     "data": {
      "text/plain": [
       "0    39057\n",
       "2    15392\n",
       "3    15053\n",
       "1      421\n",
       "4       77\n",
       "Name: bp_cat, dtype: int64"
      ]
     },
     "execution_count": 6,
     "metadata": {},
     "output_type": "execute_result"
    }
   ],
   "source": [
    "def BPCategorize(x,y):\n",
    "    if x<=120 and y<=80:\n",
    "        return 0\n",
    "    elif x<=129 and y<=80:\n",
    "        return 1\n",
    "    elif x<=139 or y<=89:\n",
    "        return 2\n",
    "    elif x<=180 or y<=120:\n",
    "        return 3\n",
    "    elif x>180 or y>120:\n",
    "        return 4\n",
    "    else:\n",
    "        return None\n",
    "    \n",
    "train.insert(8, \"bp_cat\", train.apply(lambda row: BPCategorize(row['ap_hi'], row['ap_lo']), axis=1))\n",
    "train['bp_cat'].value_counts()"
   ]
  },
  {
   "cell_type": "code",
   "execution_count": 8,
   "id": "4665d37b",
   "metadata": {},
   "outputs": [
    {
     "data": {
      "text/html": [
       "<div>\n",
       "<style scoped>\n",
       "    .dataframe tbody tr th:only-of-type {\n",
       "        vertical-align: middle;\n",
       "    }\n",
       "\n",
       "    .dataframe tbody tr th {\n",
       "        vertical-align: top;\n",
       "    }\n",
       "\n",
       "    .dataframe thead th {\n",
       "        text-align: right;\n",
       "    }\n",
       "</style>\n",
       "<table border=\"1\" class=\"dataframe\">\n",
       "  <thead>\n",
       "    <tr style=\"text-align: right;\">\n",
       "      <th></th>\n",
       "      <th>age</th>\n",
       "      <th>gender</th>\n",
       "      <th>height</th>\n",
       "      <th>weight</th>\n",
       "      <th>ap_hi</th>\n",
       "      <th>ap_lo</th>\n",
       "      <th>cholesterol</th>\n",
       "      <th>gluc</th>\n",
       "      <th>bp_cat</th>\n",
       "      <th>bmi</th>\n",
       "      <th>smoke</th>\n",
       "      <th>alco</th>\n",
       "      <th>active</th>\n",
       "      <th>cardio</th>\n",
       "    </tr>\n",
       "    <tr>\n",
       "      <th>id</th>\n",
       "      <th></th>\n",
       "      <th></th>\n",
       "      <th></th>\n",
       "      <th></th>\n",
       "      <th></th>\n",
       "      <th></th>\n",
       "      <th></th>\n",
       "      <th></th>\n",
       "      <th></th>\n",
       "      <th></th>\n",
       "      <th></th>\n",
       "      <th></th>\n",
       "      <th></th>\n",
       "      <th></th>\n",
       "    </tr>\n",
       "  </thead>\n",
       "  <tbody>\n",
       "    <tr>\n",
       "      <th>0</th>\n",
       "      <td>18393</td>\n",
       "      <td>2</td>\n",
       "      <td>168</td>\n",
       "      <td>62.0</td>\n",
       "      <td>110</td>\n",
       "      <td>80</td>\n",
       "      <td>1</td>\n",
       "      <td>1</td>\n",
       "      <td>0</td>\n",
       "      <td>21.97</td>\n",
       "      <td>0</td>\n",
       "      <td>0</td>\n",
       "      <td>1</td>\n",
       "      <td>0</td>\n",
       "    </tr>\n",
       "    <tr>\n",
       "      <th>1</th>\n",
       "      <td>20228</td>\n",
       "      <td>1</td>\n",
       "      <td>156</td>\n",
       "      <td>85.0</td>\n",
       "      <td>140</td>\n",
       "      <td>90</td>\n",
       "      <td>3</td>\n",
       "      <td>1</td>\n",
       "      <td>3</td>\n",
       "      <td>34.93</td>\n",
       "      <td>0</td>\n",
       "      <td>0</td>\n",
       "      <td>1</td>\n",
       "      <td>1</td>\n",
       "    </tr>\n",
       "    <tr>\n",
       "      <th>2</th>\n",
       "      <td>18857</td>\n",
       "      <td>1</td>\n",
       "      <td>165</td>\n",
       "      <td>64.0</td>\n",
       "      <td>130</td>\n",
       "      <td>70</td>\n",
       "      <td>3</td>\n",
       "      <td>1</td>\n",
       "      <td>2</td>\n",
       "      <td>23.51</td>\n",
       "      <td>0</td>\n",
       "      <td>0</td>\n",
       "      <td>0</td>\n",
       "      <td>1</td>\n",
       "    </tr>\n",
       "    <tr>\n",
       "      <th>3</th>\n",
       "      <td>17623</td>\n",
       "      <td>2</td>\n",
       "      <td>169</td>\n",
       "      <td>82.0</td>\n",
       "      <td>150</td>\n",
       "      <td>100</td>\n",
       "      <td>1</td>\n",
       "      <td>1</td>\n",
       "      <td>3</td>\n",
       "      <td>28.71</td>\n",
       "      <td>0</td>\n",
       "      <td>0</td>\n",
       "      <td>1</td>\n",
       "      <td>1</td>\n",
       "    </tr>\n",
       "    <tr>\n",
       "      <th>4</th>\n",
       "      <td>17474</td>\n",
       "      <td>1</td>\n",
       "      <td>156</td>\n",
       "      <td>56.0</td>\n",
       "      <td>100</td>\n",
       "      <td>60</td>\n",
       "      <td>1</td>\n",
       "      <td>1</td>\n",
       "      <td>0</td>\n",
       "      <td>23.01</td>\n",
       "      <td>0</td>\n",
       "      <td>0</td>\n",
       "      <td>0</td>\n",
       "      <td>0</td>\n",
       "    </tr>\n",
       "  </tbody>\n",
       "</table>\n",
       "</div>"
      ],
      "text/plain": [
       "      age  gender  height  weight  ap_hi  ap_lo  cholesterol  gluc  bp_cat  \\\n",
       "id                                                                           \n",
       "0   18393       2     168    62.0    110     80            1     1       0   \n",
       "1   20228       1     156    85.0    140     90            3     1       3   \n",
       "2   18857       1     165    64.0    130     70            3     1       2   \n",
       "3   17623       2     169    82.0    150    100            1     1       3   \n",
       "4   17474       1     156    56.0    100     60            1     1       0   \n",
       "\n",
       "      bmi  smoke  alco  active  cardio  \n",
       "id                                      \n",
       "0   21.97      0     0       1       0  \n",
       "1   34.93      0     0       1       1  \n",
       "2   23.51      0     0       0       1  \n",
       "3   28.71      0     0       1       1  \n",
       "4   23.01      0     0       0       0  "
      ]
     },
     "execution_count": 8,
     "metadata": {},
     "output_type": "execute_result"
    }
   ],
   "source": [
    "train.head()"
   ]
  },
  {
   "cell_type": "code",
   "execution_count": 9,
   "id": "3901b170",
   "metadata": {},
   "outputs": [
    {
     "data": {
      "text/plain": [
       "24"
      ]
     },
     "execution_count": 9,
     "metadata": {},
     "output_type": "execute_result"
    }
   ],
   "source": [
    "train.duplicated().sum()"
   ]
  },
  {
   "cell_type": "code",
   "execution_count": 10,
   "id": "3619df8c",
   "metadata": {},
   "outputs": [],
   "source": [
    "train.drop_duplicates(inplace=True)"
   ]
  },
  {
   "cell_type": "code",
   "execution_count": 12,
   "id": "85b26b7c",
   "metadata": {},
   "outputs": [
    {
     "data": {
      "text/html": [
       "<style type=\"text/css\">\n",
       "#T_d8cd7_row0_col0, #T_d8cd7_row1_col1, #T_d8cd7_row2_col2, #T_d8cd7_row3_col3, #T_d8cd7_row4_col4, #T_d8cd7_row5_col5, #T_d8cd7_row6_col6, #T_d8cd7_row7_col7, #T_d8cd7_row8_col8, #T_d8cd7_row9_col9, #T_d8cd7_row10_col10, #T_d8cd7_row11_col11, #T_d8cd7_row12_col12, #T_d8cd7_row13_col13 {\n",
       "  background-color: #fcfdbf;\n",
       "  color: #000000;\n",
       "}\n",
       "#T_d8cd7_row0_col1, #T_d8cd7_row0_col3, #T_d8cd7_row7_col1, #T_d8cd7_row12_col10 {\n",
       "  background-color: #0b0924;\n",
       "  color: #f1f1f1;\n",
       "}\n",
       "#T_d8cd7_row0_col2, #T_d8cd7_row5_col8 {\n",
       "  background-color: #2a115c;\n",
       "  color: #f1f1f1;\n",
       "}\n",
       "#T_d8cd7_row0_col4, #T_d8cd7_row9_col12, #T_d8cd7_row13_col11 {\n",
       "  background-color: #02020b;\n",
       "  color: #f1f1f1;\n",
       "}\n",
       "#T_d8cd7_row0_col5, #T_d8cd7_row1_col6, #T_d8cd7_row7_col4, #T_d8cd7_row10_col7, #T_d8cd7_row12_col7 {\n",
       "  background-color: #010108;\n",
       "  color: #f1f1f1;\n",
       "}\n",
       "#T_d8cd7_row0_col6, #T_d8cd7_row1_col11, #T_d8cd7_row9_col13, #T_d8cd7_row13_col3 {\n",
       "  background-color: #38106c;\n",
       "  color: #f1f1f1;\n",
       "}\n",
       "#T_d8cd7_row0_col7, #T_d8cd7_row4_col8, #T_d8cd7_row7_col8 {\n",
       "  background-color: #19103f;\n",
       "  color: #f1f1f1;\n",
       "}\n",
       "#T_d8cd7_row0_col8 {\n",
       "  background-color: #390f6e;\n",
       "  color: #f1f1f1;\n",
       "}\n",
       "#T_d8cd7_row0_col9 {\n",
       "  background-color: #601880;\n",
       "  color: #f1f1f1;\n",
       "}\n",
       "#T_d8cd7_row0_col10, #T_d8cd7_row0_col11, #T_d8cd7_row1_col7, #T_d8cd7_row2_col0, #T_d8cd7_row2_col5, #T_d8cd7_row2_col6, #T_d8cd7_row2_col7, #T_d8cd7_row2_col8, #T_d8cd7_row2_col9, #T_d8cd7_row9_col1, #T_d8cd7_row9_col2, #T_d8cd7_row10_col4, #T_d8cd7_row10_col5, #T_d8cd7_row11_col4, #T_d8cd7_row12_col3, #T_d8cd7_row12_col4, #T_d8cd7_row12_col5, #T_d8cd7_row12_col13, #T_d8cd7_row13_col12 {\n",
       "  background-color: #000004;\n",
       "  color: #f1f1f1;\n",
       "}\n",
       "#T_d8cd7_row0_col12, #T_d8cd7_row2_col13, #T_d8cd7_row6_col4, #T_d8cd7_row9_col4, #T_d8cd7_row11_col13 {\n",
       "  background-color: #02020d;\n",
       "  color: #f1f1f1;\n",
       "}\n",
       "#T_d8cd7_row0_col13, #T_d8cd7_row8_col6 {\n",
       "  background-color: #56147d;\n",
       "  color: #f1f1f1;\n",
       "}\n",
       "#T_d8cd7_row1_col0, #T_d8cd7_row1_col8, #T_d8cd7_row12_col11 {\n",
       "  background-color: #07061c;\n",
       "  color: #f1f1f1;\n",
       "}\n",
       "#T_d8cd7_row1_col2 {\n",
       "  background-color: #e24d66;\n",
       "  color: #f1f1f1;\n",
       "}\n",
       "#T_d8cd7_row1_col3 {\n",
       "  background-color: #2d1161;\n",
       "  color: #f1f1f1;\n",
       "}\n",
       "#T_d8cd7_row1_col4, #T_d8cd7_row2_col4, #T_d8cd7_row7_col5, #T_d8cd7_row11_col5 {\n",
       "  background-color: #010005;\n",
       "  color: #f1f1f1;\n",
       "}\n",
       "#T_d8cd7_row1_col5, #T_d8cd7_row4_col5 {\n",
       "  background-color: #010106;\n",
       "  color: #f1f1f1;\n",
       "}\n",
       "#T_d8cd7_row1_col9 {\n",
       "  background-color: #251255;\n",
       "  color: #f1f1f1;\n",
       "}\n",
       "#T_d8cd7_row1_col10, #T_d8cd7_row10_col2, #T_d8cd7_row11_col10 {\n",
       "  background-color: #802582;\n",
       "  color: #f1f1f1;\n",
       "}\n",
       "#T_d8cd7_row1_col12, #T_d8cd7_row1_col13, #T_d8cd7_row3_col5, #T_d8cd7_row5_col11, #T_d8cd7_row7_col10, #T_d8cd7_row7_col11, #T_d8cd7_row9_col11 {\n",
       "  background-color: #050416;\n",
       "  color: #f1f1f1;\n",
       "}\n",
       "#T_d8cd7_row2_col1 {\n",
       "  background-color: #c83e73;\n",
       "  color: #f1f1f1;\n",
       "}\n",
       "#T_d8cd7_row2_col3, #T_d8cd7_row7_col9 {\n",
       "  background-color: #651a80;\n",
       "  color: #f1f1f1;\n",
       "}\n",
       "#T_d8cd7_row2_col10 {\n",
       "  background-color: #451077;\n",
       "  color: #f1f1f1;\n",
       "}\n",
       "#T_d8cd7_row2_col11, #T_d8cd7_row7_col13, #T_d8cd7_row8_col7, #T_d8cd7_row9_col7 {\n",
       "  background-color: #1a1042;\n",
       "  color: #f1f1f1;\n",
       "}\n",
       "#T_d8cd7_row2_col12, #T_d8cd7_row4_col11, #T_d8cd7_row5_col7, #T_d8cd7_row7_col12, #T_d8cd7_row9_col5, #T_d8cd7_row11_col7, #T_d8cd7_row13_col10 {\n",
       "  background-color: #03030f;\n",
       "  color: #f1f1f1;\n",
       "}\n",
       "#T_d8cd7_row3_col0, #T_d8cd7_row8_col1 {\n",
       "  background-color: #1d1147;\n",
       "  color: #f1f1f1;\n",
       "}\n",
       "#T_d8cd7_row3_col1, #T_d8cd7_row4_col2, #T_d8cd7_row5_col2 {\n",
       "  background-color: #471078;\n",
       "  color: #f1f1f1;\n",
       "}\n",
       "#T_d8cd7_row3_col2, #T_d8cd7_row13_col8 {\n",
       "  background-color: #a1307e;\n",
       "  color: #f1f1f1;\n",
       "}\n",
       "#T_d8cd7_row3_col4, #T_d8cd7_row4_col7, #T_d8cd7_row4_col12, #T_d8cd7_row10_col0 {\n",
       "  background-color: #030312;\n",
       "  color: #f1f1f1;\n",
       "}\n",
       "#T_d8cd7_row3_col6 {\n",
       "  background-color: #331067;\n",
       "  color: #f1f1f1;\n",
       "}\n",
       "#T_d8cd7_row3_col7, #T_d8cd7_row7_col3 {\n",
       "  background-color: #1c1044;\n",
       "  color: #f1f1f1;\n",
       "}\n",
       "#T_d8cd7_row3_col8, #T_d8cd7_row8_col3 {\n",
       "  background-color: #5a167e;\n",
       "  color: #f1f1f1;\n",
       "}\n",
       "#T_d8cd7_row3_col9 {\n",
       "  background-color: #fea772;\n",
       "  color: #000000;\n",
       "}\n",
       "#T_d8cd7_row3_col10 {\n",
       "  background-color: #180f3d;\n",
       "  color: #f1f1f1;\n",
       "}\n",
       "#T_d8cd7_row3_col11, #T_d8cd7_row4_col0, #T_d8cd7_row13_col1 {\n",
       "  background-color: #130d34;\n",
       "  color: #f1f1f1;\n",
       "}\n",
       "#T_d8cd7_row3_col12, #T_d8cd7_row5_col4, #T_d8cd7_row6_col5, #T_d8cd7_row9_col10, #T_d8cd7_row10_col13, #T_d8cd7_row12_col8 {\n",
       "  background-color: #020109;\n",
       "  color: #f1f1f1;\n",
       "}\n",
       "#T_d8cd7_row3_col13, #T_d8cd7_row7_col2 {\n",
       "  background-color: #3f0f72;\n",
       "  color: #f1f1f1;\n",
       "}\n",
       "#T_d8cd7_row4_col1, #T_d8cd7_row5_col0, #T_d8cd7_row12_col1 {\n",
       "  background-color: #120d31;\n",
       "  color: #f1f1f1;\n",
       "}\n",
       "#T_d8cd7_row4_col3, #T_d8cd7_row4_col10, #T_d8cd7_row6_col12, #T_d8cd7_row10_col8 {\n",
       "  background-color: #060518;\n",
       "  color: #f1f1f1;\n",
       "}\n",
       "#T_d8cd7_row4_col6, #T_d8cd7_row5_col6, #T_d8cd7_row8_col11 {\n",
       "  background-color: #0c0926;\n",
       "  color: #f1f1f1;\n",
       "}\n",
       "#T_d8cd7_row4_col9, #T_d8cd7_row11_col1 {\n",
       "  background-color: #4e117b;\n",
       "  color: #f1f1f1;\n",
       "}\n",
       "#T_d8cd7_row4_col13 {\n",
       "  background-color: #110c2f;\n",
       "  color: #f1f1f1;\n",
       "}\n",
       "#T_d8cd7_row5_col1, #T_d8cd7_row8_col4 {\n",
       "  background-color: #150e38;\n",
       "  color: #f1f1f1;\n",
       "}\n",
       "#T_d8cd7_row5_col3, #T_d8cd7_row10_col12, #T_d8cd7_row11_col12, #T_d8cd7_row13_col5 {\n",
       "  background-color: #090720;\n",
       "  color: #f1f1f1;\n",
       "}\n",
       "#T_d8cd7_row5_col9 {\n",
       "  background-color: #51127c;\n",
       "  color: #f1f1f1;\n",
       "}\n",
       "#T_d8cd7_row5_col10, #T_d8cd7_row11_col0 {\n",
       "  background-color: #06051a;\n",
       "  color: #f1f1f1;\n",
       "}\n",
       "#T_d8cd7_row5_col12, #T_d8cd7_row8_col12 {\n",
       "  background-color: #040414;\n",
       "  color: #f1f1f1;\n",
       "}\n",
       "#T_d8cd7_row5_col13 {\n",
       "  background-color: #140e36;\n",
       "  color: #f1f1f1;\n",
       "}\n",
       "#T_d8cd7_row6_col0, #T_d8cd7_row13_col2 {\n",
       "  background-color: #420f75;\n",
       "  color: #f1f1f1;\n",
       "}\n",
       "#T_d8cd7_row6_col1, #T_d8cd7_row6_col10, #T_d8cd7_row10_col6, #T_d8cd7_row11_col8, #T_d8cd7_row12_col6, #T_d8cd7_row13_col4 {\n",
       "  background-color: #08071e;\n",
       "  color: #f1f1f1;\n",
       "}\n",
       "#T_d8cd7_row6_col2, #T_d8cd7_row9_col6 {\n",
       "  background-color: #341069;\n",
       "  color: #f1f1f1;\n",
       "}\n",
       "#T_d8cd7_row6_col3, #T_d8cd7_row9_col0 {\n",
       "  background-color: #271258;\n",
       "  color: #f1f1f1;\n",
       "}\n",
       "#T_d8cd7_row6_col7, #T_d8cd7_row8_col13 {\n",
       "  background-color: #a6317d;\n",
       "  color: #f1f1f1;\n",
       "}\n",
       "#T_d8cd7_row6_col8, #T_d8cd7_row11_col9 {\n",
       "  background-color: #4a1079;\n",
       "  color: #f1f1f1;\n",
       "}\n",
       "#T_d8cd7_row6_col9 {\n",
       "  background-color: #732081;\n",
       "  color: #f1f1f1;\n",
       "}\n",
       "#T_d8cd7_row6_col11, #T_d8cd7_row12_col0 {\n",
       "  background-color: #0a0822;\n",
       "  color: #f1f1f1;\n",
       "}\n",
       "#T_d8cd7_row6_col13, #T_d8cd7_row8_col0, #T_d8cd7_row9_col8 {\n",
       "  background-color: #4f127b;\n",
       "  color: #f1f1f1;\n",
       "}\n",
       "#T_d8cd7_row7_col0 {\n",
       "  background-color: #2c115f;\n",
       "  color: #f1f1f1;\n",
       "}\n",
       "#T_d8cd7_row7_col6 {\n",
       "  background-color: #ad347c;\n",
       "  color: #f1f1f1;\n",
       "}\n",
       "#T_d8cd7_row8_col2, #T_d8cd7_row12_col9 {\n",
       "  background-color: #400f74;\n",
       "  color: #f1f1f1;\n",
       "}\n",
       "#T_d8cd7_row8_col5 {\n",
       "  background-color: #241253;\n",
       "  color: #f1f1f1;\n",
       "}\n",
       "#T_d8cd7_row8_col9 {\n",
       "  background-color: #912b81;\n",
       "  color: #f1f1f1;\n",
       "}\n",
       "#T_d8cd7_row8_col10 {\n",
       "  background-color: #0d0a29;\n",
       "  color: #f1f1f1;\n",
       "}\n",
       "#T_d8cd7_row9_col3 {\n",
       "  background-color: #fc9065;\n",
       "  color: #000000;\n",
       "}\n",
       "#T_d8cd7_row10_col1 {\n",
       "  background-color: #8b2981;\n",
       "  color: #f1f1f1;\n",
       "}\n",
       "#T_d8cd7_row10_col3, #T_d8cd7_row11_col3 {\n",
       "  background-color: #100b2d;\n",
       "  color: #f1f1f1;\n",
       "}\n",
       "#T_d8cd7_row10_col9 {\n",
       "  background-color: #3d0f71;\n",
       "  color: #f1f1f1;\n",
       "}\n",
       "#T_d8cd7_row10_col11 {\n",
       "  background-color: #7b2382;\n",
       "  color: #f1f1f1;\n",
       "}\n",
       "#T_d8cd7_row11_col2 {\n",
       "  background-color: #641a80;\n",
       "  color: #f1f1f1;\n",
       "}\n",
       "#T_d8cd7_row11_col6 {\n",
       "  background-color: #0e0b2b;\n",
       "  color: #f1f1f1;\n",
       "}\n",
       "#T_d8cd7_row12_col2 {\n",
       "  background-color: #440f76;\n",
       "  color: #f1f1f1;\n",
       "}\n",
       "#T_d8cd7_row13_col0 {\n",
       "  background-color: #621980;\n",
       "  color: #f1f1f1;\n",
       "}\n",
       "#T_d8cd7_row13_col6 {\n",
       "  background-color: #54137d;\n",
       "  color: #f1f1f1;\n",
       "}\n",
       "#T_d8cd7_row13_col7 {\n",
       "  background-color: #160f3b;\n",
       "  color: #f1f1f1;\n",
       "}\n",
       "#T_d8cd7_row13_col9 {\n",
       "  background-color: #792282;\n",
       "  color: #f1f1f1;\n",
       "}\n",
       "</style>\n",
       "<table id=\"T_d8cd7\">\n",
       "  <thead>\n",
       "    <tr>\n",
       "      <th class=\"blank level0\" >&nbsp;</th>\n",
       "      <th id=\"T_d8cd7_level0_col0\" class=\"col_heading level0 col0\" >age</th>\n",
       "      <th id=\"T_d8cd7_level0_col1\" class=\"col_heading level0 col1\" >gender</th>\n",
       "      <th id=\"T_d8cd7_level0_col2\" class=\"col_heading level0 col2\" >height</th>\n",
       "      <th id=\"T_d8cd7_level0_col3\" class=\"col_heading level0 col3\" >weight</th>\n",
       "      <th id=\"T_d8cd7_level0_col4\" class=\"col_heading level0 col4\" >ap_hi</th>\n",
       "      <th id=\"T_d8cd7_level0_col5\" class=\"col_heading level0 col5\" >ap_lo</th>\n",
       "      <th id=\"T_d8cd7_level0_col6\" class=\"col_heading level0 col6\" >cholesterol</th>\n",
       "      <th id=\"T_d8cd7_level0_col7\" class=\"col_heading level0 col7\" >gluc</th>\n",
       "      <th id=\"T_d8cd7_level0_col8\" class=\"col_heading level0 col8\" >bp_cat</th>\n",
       "      <th id=\"T_d8cd7_level0_col9\" class=\"col_heading level0 col9\" >bmi</th>\n",
       "      <th id=\"T_d8cd7_level0_col10\" class=\"col_heading level0 col10\" >smoke</th>\n",
       "      <th id=\"T_d8cd7_level0_col11\" class=\"col_heading level0 col11\" >alco</th>\n",
       "      <th id=\"T_d8cd7_level0_col12\" class=\"col_heading level0 col12\" >active</th>\n",
       "      <th id=\"T_d8cd7_level0_col13\" class=\"col_heading level0 col13\" >cardio</th>\n",
       "    </tr>\n",
       "  </thead>\n",
       "  <tbody>\n",
       "    <tr>\n",
       "      <th id=\"T_d8cd7_level0_row0\" class=\"row_heading level0 row0\" >age</th>\n",
       "      <td id=\"T_d8cd7_row0_col0\" class=\"data row0 col0\" >1.000000</td>\n",
       "      <td id=\"T_d8cd7_row0_col1\" class=\"data row0 col1\" >-0.022763</td>\n",
       "      <td id=\"T_d8cd7_row0_col2\" class=\"data row0 col2\" >-0.081546</td>\n",
       "      <td id=\"T_d8cd7_row0_col3\" class=\"data row0 col3\" >0.053697</td>\n",
       "      <td id=\"T_d8cd7_row0_col4\" class=\"data row0 col4\" >0.020765</td>\n",
       "      <td id=\"T_d8cd7_row0_col5\" class=\"data row0 col5\" >0.017647</td>\n",
       "      <td id=\"T_d8cd7_row0_col6\" class=\"data row0 col6\" >0.154432</td>\n",
       "      <td id=\"T_d8cd7_row0_col7\" class=\"data row0 col7\" >0.098704</td>\n",
       "      <td id=\"T_d8cd7_row0_col8\" class=\"data row0 col8\" >0.188337</td>\n",
       "      <td id=\"T_d8cd7_row0_col9\" class=\"data row0 col9\" >0.085535</td>\n",
       "      <td id=\"T_d8cd7_row0_col10\" class=\"data row0 col10\" >-0.047650</td>\n",
       "      <td id=\"T_d8cd7_row0_col11\" class=\"data row0 col11\" >-0.029735</td>\n",
       "      <td id=\"T_d8cd7_row0_col12\" class=\"data row0 col12\" >-0.009918</td>\n",
       "      <td id=\"T_d8cd7_row0_col13\" class=\"data row0 col13\" >0.238189</td>\n",
       "    </tr>\n",
       "    <tr>\n",
       "      <th id=\"T_d8cd7_level0_row1\" class=\"row_heading level0 row1\" >gender</th>\n",
       "      <td id=\"T_d8cd7_row1_col0\" class=\"data row1 col0\" >-0.022763</td>\n",
       "      <td id=\"T_d8cd7_row1_col1\" class=\"data row1 col1\" >1.000000</td>\n",
       "      <td id=\"T_d8cd7_row1_col2\" class=\"data row1 col2\" >0.499080</td>\n",
       "      <td id=\"T_d8cd7_row1_col3\" class=\"data row1 col3\" >0.155320</td>\n",
       "      <td id=\"T_d8cd7_row1_col4\" class=\"data row1 col4\" >0.005996</td>\n",
       "      <td id=\"T_d8cd7_row1_col5\" class=\"data row1 col5\" >0.015241</td>\n",
       "      <td id=\"T_d8cd7_row1_col6\" class=\"data row1 col6\" >-0.035915</td>\n",
       "      <td id=\"T_d8cd7_row1_col7\" class=\"data row1 col7\" >-0.020558</td>\n",
       "      <td id=\"T_d8cd7_row1_col8\" class=\"data row1 col8\" >0.040842</td>\n",
       "      <td id=\"T_d8cd7_row1_col9\" class=\"data row1 col9\" >-0.096639</td>\n",
       "      <td id=\"T_d8cd7_row1_col10\" class=\"data row1 col10\" >0.338131</td>\n",
       "      <td id=\"T_d8cd7_row1_col11\" class=\"data row1 col11\" >0.170950</td>\n",
       "      <td id=\"T_d8cd7_row1_col12\" class=\"data row1 col12\" >0.005917</td>\n",
       "      <td id=\"T_d8cd7_row1_col13\" class=\"data row1 col13\" >0.008037</td>\n",
       "    </tr>\n",
       "    <tr>\n",
       "      <th id=\"T_d8cd7_level0_row2\" class=\"row_heading level0 row2\" >height</th>\n",
       "      <td id=\"T_d8cd7_row2_col0\" class=\"data row2 col0\" >-0.081546</td>\n",
       "      <td id=\"T_d8cd7_row2_col1\" class=\"data row2 col1\" >0.499080</td>\n",
       "      <td id=\"T_d8cd7_row2_col2\" class=\"data row2 col2\" >1.000000</td>\n",
       "      <td id=\"T_d8cd7_row2_col3\" class=\"data row2 col3\" >0.290983</td>\n",
       "      <td id=\"T_d8cd7_row2_col4\" class=\"data row2 col4\" >0.005488</td>\n",
       "      <td id=\"T_d8cd7_row2_col5\" class=\"data row2 col5\" >0.006151</td>\n",
       "      <td id=\"T_d8cd7_row2_col6\" class=\"data row2 col6\" >-0.050225</td>\n",
       "      <td id=\"T_d8cd7_row2_col7\" class=\"data row2 col7\" >-0.018592</td>\n",
       "      <td id=\"T_d8cd7_row2_col8\" class=\"data row2 col8\" >-0.013394</td>\n",
       "      <td id=\"T_d8cd7_row2_col9\" class=\"data row2 col9\" >-0.290653</td>\n",
       "      <td id=\"T_d8cd7_row2_col10\" class=\"data row2 col10\" >0.188003</td>\n",
       "      <td id=\"T_d8cd7_row2_col11\" class=\"data row2 col11\" >0.094425</td>\n",
       "      <td id=\"T_d8cd7_row2_col12\" class=\"data row2 col12\" >-0.006569</td>\n",
       "      <td id=\"T_d8cd7_row2_col13\" class=\"data row2 col13\" >-0.010871</td>\n",
       "    </tr>\n",
       "    <tr>\n",
       "      <th id=\"T_d8cd7_level0_row3\" class=\"row_heading level0 row3\" >weight</th>\n",
       "      <td id=\"T_d8cd7_row3_col0\" class=\"data row3 col0\" >0.053697</td>\n",
       "      <td id=\"T_d8cd7_row3_col1\" class=\"data row3 col1\" >0.155320</td>\n",
       "      <td id=\"T_d8cd7_row3_col2\" class=\"data row3 col2\" >0.290983</td>\n",
       "      <td id=\"T_d8cd7_row3_col3\" class=\"data row3 col3\" >1.000000</td>\n",
       "      <td id=\"T_d8cd7_row3_col4\" class=\"data row3 col4\" >0.030693</td>\n",
       "      <td id=\"T_d8cd7_row3_col5\" class=\"data row3 col5\" >0.043695</td>\n",
       "      <td id=\"T_d8cd7_row3_col6\" class=\"data row3 col6\" >0.141679</td>\n",
       "      <td id=\"T_d8cd7_row3_col7\" class=\"data row3 col7\" >0.106790</td>\n",
       "      <td id=\"T_d8cd7_row3_col8\" class=\"data row3 col8\" >0.263898</td>\n",
       "      <td id=\"T_d8cd7_row3_col9\" class=\"data row3 col9\" >0.761980</td>\n",
       "      <td id=\"T_d8cd7_row3_col10\" class=\"data row3 col10\" >0.067725</td>\n",
       "      <td id=\"T_d8cd7_row3_col11\" class=\"data row3 col11\" >0.067071</td>\n",
       "      <td id=\"T_d8cd7_row3_col12\" class=\"data row3 col12\" >-0.016863</td>\n",
       "      <td id=\"T_d8cd7_row3_col13\" class=\"data row3 col13\" >0.181599</td>\n",
       "    </tr>\n",
       "    <tr>\n",
       "      <th id=\"T_d8cd7_level0_row4\" class=\"row_heading level0 row4\" >ap_hi</th>\n",
       "      <td id=\"T_d8cd7_row4_col0\" class=\"data row4 col0\" >0.020765</td>\n",
       "      <td id=\"T_d8cd7_row4_col1\" class=\"data row4 col1\" >0.005996</td>\n",
       "      <td id=\"T_d8cd7_row4_col2\" class=\"data row4 col2\" >0.005488</td>\n",
       "      <td id=\"T_d8cd7_row4_col3\" class=\"data row4 col3\" >0.030693</td>\n",
       "      <td id=\"T_d8cd7_row4_col4\" class=\"data row4 col4\" >1.000000</td>\n",
       "      <td id=\"T_d8cd7_row4_col5\" class=\"data row4 col5\" >0.016084</td>\n",
       "      <td id=\"T_d8cd7_row4_col6\" class=\"data row4 col6\" >0.023768</td>\n",
       "      <td id=\"T_d8cd7_row4_col7\" class=\"data row4 col7\" >0.011833</td>\n",
       "      <td id=\"T_d8cd7_row4_col8\" class=\"data row4 col8\" >0.104436</td>\n",
       "      <td id=\"T_d8cd7_row4_col9\" class=\"data row4 col9\" >0.024842</td>\n",
       "      <td id=\"T_d8cd7_row4_col10\" class=\"data row4 col10\" >-0.000928</td>\n",
       "      <td id=\"T_d8cd7_row4_col11\" class=\"data row4 col11\" >0.001403</td>\n",
       "      <td id=\"T_d8cd7_row4_col12\" class=\"data row4 col12\" >-0.000031</td>\n",
       "      <td id=\"T_d8cd7_row4_col13\" class=\"data row4 col13\" >0.054475</td>\n",
       "    </tr>\n",
       "    <tr>\n",
       "      <th id=\"T_d8cd7_level0_row5\" class=\"row_heading level0 row5\" >ap_lo</th>\n",
       "      <td id=\"T_d8cd7_row5_col0\" class=\"data row5 col0\" >0.017647</td>\n",
       "      <td id=\"T_d8cd7_row5_col1\" class=\"data row5 col1\" >0.015241</td>\n",
       "      <td id=\"T_d8cd7_row5_col2\" class=\"data row5 col2\" >0.006151</td>\n",
       "      <td id=\"T_d8cd7_row5_col3\" class=\"data row5 col3\" >0.043695</td>\n",
       "      <td id=\"T_d8cd7_row5_col4\" class=\"data row5 col4\" >0.016084</td>\n",
       "      <td id=\"T_d8cd7_row5_col5\" class=\"data row5 col5\" >1.000000</td>\n",
       "      <td id=\"T_d8cd7_row5_col6\" class=\"data row5 col6\" >0.024004</td>\n",
       "      <td id=\"T_d8cd7_row5_col7\" class=\"data row5 col7\" >0.010794</td>\n",
       "      <td id=\"T_d8cd7_row5_col8\" class=\"data row5 col8\" >0.149326</td>\n",
       "      <td id=\"T_d8cd7_row5_col9\" class=\"data row5 col9\" >0.035331</td>\n",
       "      <td id=\"T_d8cd7_row5_col10\" class=\"data row5 col10\" >0.005177</td>\n",
       "      <td id=\"T_d8cd7_row5_col11\" class=\"data row5 col11\" >0.010594</td>\n",
       "      <td id=\"T_d8cd7_row5_col12\" class=\"data row5 col12\" >0.004784</td>\n",
       "      <td id=\"T_d8cd7_row5_col13\" class=\"data row5 col13\" >0.065717</td>\n",
       "    </tr>\n",
       "    <tr>\n",
       "      <th id=\"T_d8cd7_level0_row6\" class=\"row_heading level0 row6\" >cholesterol</th>\n",
       "      <td id=\"T_d8cd7_row6_col0\" class=\"data row6 col0\" >0.154432</td>\n",
       "      <td id=\"T_d8cd7_row6_col1\" class=\"data row6 col1\" >-0.035915</td>\n",
       "      <td id=\"T_d8cd7_row6_col2\" class=\"data row6 col2\" >-0.050225</td>\n",
       "      <td id=\"T_d8cd7_row6_col3\" class=\"data row6 col3\" >0.141679</td>\n",
       "      <td id=\"T_d8cd7_row6_col4\" class=\"data row6 col4\" >0.023768</td>\n",
       "      <td id=\"T_d8cd7_row6_col5\" class=\"data row6 col5\" >0.024004</td>\n",
       "      <td id=\"T_d8cd7_row6_col6\" class=\"data row6 col6\" >1.000000</td>\n",
       "      <td id=\"T_d8cd7_row6_col7\" class=\"data row6 col7\" >0.451539</td>\n",
       "      <td id=\"T_d8cd7_row6_col8\" class=\"data row6 col8\" >0.226894</td>\n",
       "      <td id=\"T_d8cd7_row6_col9\" class=\"data row6 col9\" >0.146187</td>\n",
       "      <td id=\"T_d8cd7_row6_col10\" class=\"data row6 col10\" >0.010298</td>\n",
       "      <td id=\"T_d8cd7_row6_col11\" class=\"data row6 col11\" >0.035718</td>\n",
       "      <td id=\"T_d8cd7_row6_col12\" class=\"data row6 col12\" >0.009927</td>\n",
       "      <td id=\"T_d8cd7_row6_col13\" class=\"data row6 col13\" >0.221119</td>\n",
       "    </tr>\n",
       "    <tr>\n",
       "      <th id=\"T_d8cd7_level0_row7\" class=\"row_heading level0 row7\" >gluc</th>\n",
       "      <td id=\"T_d8cd7_row7_col0\" class=\"data row7 col0\" >0.098704</td>\n",
       "      <td id=\"T_d8cd7_row7_col1\" class=\"data row7 col1\" >-0.020558</td>\n",
       "      <td id=\"T_d8cd7_row7_col2\" class=\"data row7 col2\" >-0.018592</td>\n",
       "      <td id=\"T_d8cd7_row7_col3\" class=\"data row7 col3\" >0.106790</td>\n",
       "      <td id=\"T_d8cd7_row7_col4\" class=\"data row7 col4\" >0.011833</td>\n",
       "      <td id=\"T_d8cd7_row7_col5\" class=\"data row7 col5\" >0.010794</td>\n",
       "      <td id=\"T_d8cd7_row7_col6\" class=\"data row7 col6\" >0.451539</td>\n",
       "      <td id=\"T_d8cd7_row7_col7\" class=\"data row7 col7\" >1.000000</td>\n",
       "      <td id=\"T_d8cd7_row7_col8\" class=\"data row7 col8\" >0.102335</td>\n",
       "      <td id=\"T_d8cd7_row7_col9\" class=\"data row7 col9\" >0.101330</td>\n",
       "      <td id=\"T_d8cd7_row7_col10\" class=\"data row7 col10\" >-0.004799</td>\n",
       "      <td id=\"T_d8cd7_row7_col11\" class=\"data row7 col11\" >0.011214</td>\n",
       "      <td id=\"T_d8cd7_row7_col12\" class=\"data row7 col12\" >-0.006761</td>\n",
       "      <td id=\"T_d8cd7_row7_col13\" class=\"data row7 col13\" >0.089268</td>\n",
       "    </tr>\n",
       "    <tr>\n",
       "      <th id=\"T_d8cd7_level0_row8\" class=\"row_heading level0 row8\" >bp_cat</th>\n",
       "      <td id=\"T_d8cd7_row8_col0\" class=\"data row8 col0\" >0.188337</td>\n",
       "      <td id=\"T_d8cd7_row8_col1\" class=\"data row8 col1\" >0.040842</td>\n",
       "      <td id=\"T_d8cd7_row8_col2\" class=\"data row8 col2\" >-0.013394</td>\n",
       "      <td id=\"T_d8cd7_row8_col3\" class=\"data row8 col3\" >0.263898</td>\n",
       "      <td id=\"T_d8cd7_row8_col4\" class=\"data row8 col4\" >0.104436</td>\n",
       "      <td id=\"T_d8cd7_row8_col5\" class=\"data row8 col5\" >0.149326</td>\n",
       "      <td id=\"T_d8cd7_row8_col6\" class=\"data row8 col6\" >0.226894</td>\n",
       "      <td id=\"T_d8cd7_row8_col7\" class=\"data row8 col7\" >0.102335</td>\n",
       "      <td id=\"T_d8cd7_row8_col8\" class=\"data row8 col8\" >1.000000</td>\n",
       "      <td id=\"T_d8cd7_row8_col9\" class=\"data row8 col9\" >0.239246</td>\n",
       "      <td id=\"T_d8cd7_row8_col10\" class=\"data row8 col10\" >0.033610</td>\n",
       "      <td id=\"T_d8cd7_row8_col11\" class=\"data row8 col11\" >0.043335</td>\n",
       "      <td id=\"T_d8cd7_row8_col12\" class=\"data row8 col12\" >0.002959</td>\n",
       "      <td id=\"T_d8cd7_row8_col13\" class=\"data row8 col13\" >0.442920</td>\n",
       "    </tr>\n",
       "    <tr>\n",
       "      <th id=\"T_d8cd7_level0_row9\" class=\"row_heading level0 row9\" >bmi</th>\n",
       "      <td id=\"T_d8cd7_row9_col0\" class=\"data row9 col0\" >0.085535</td>\n",
       "      <td id=\"T_d8cd7_row9_col1\" class=\"data row9 col1\" >-0.096639</td>\n",
       "      <td id=\"T_d8cd7_row9_col2\" class=\"data row9 col2\" >-0.290653</td>\n",
       "      <td id=\"T_d8cd7_row9_col3\" class=\"data row9 col3\" >0.761980</td>\n",
       "      <td id=\"T_d8cd7_row9_col4\" class=\"data row9 col4\" >0.024842</td>\n",
       "      <td id=\"T_d8cd7_row9_col5\" class=\"data row9 col5\" >0.035331</td>\n",
       "      <td id=\"T_d8cd7_row9_col6\" class=\"data row9 col6\" >0.146187</td>\n",
       "      <td id=\"T_d8cd7_row9_col7\" class=\"data row9 col7\" >0.101330</td>\n",
       "      <td id=\"T_d8cd7_row9_col8\" class=\"data row9 col8\" >0.239246</td>\n",
       "      <td id=\"T_d8cd7_row9_col9\" class=\"data row9 col9\" >1.000000</td>\n",
       "      <td id=\"T_d8cd7_row9_col10\" class=\"data row9 col10\" >-0.027277</td>\n",
       "      <td id=\"T_d8cd7_row9_col11\" class=\"data row9 col11\" >0.014347</td>\n",
       "      <td id=\"T_d8cd7_row9_col12\" class=\"data row9 col12\" >-0.014264</td>\n",
       "      <td id=\"T_d8cd7_row9_col13\" class=\"data row9 col13\" >0.165597</td>\n",
       "    </tr>\n",
       "    <tr>\n",
       "      <th id=\"T_d8cd7_level0_row10\" class=\"row_heading level0 row10\" >smoke</th>\n",
       "      <td id=\"T_d8cd7_row10_col0\" class=\"data row10 col0\" >-0.047650</td>\n",
       "      <td id=\"T_d8cd7_row10_col1\" class=\"data row10 col1\" >0.338131</td>\n",
       "      <td id=\"T_d8cd7_row10_col2\" class=\"data row10 col2\" >0.188003</td>\n",
       "      <td id=\"T_d8cd7_row10_col3\" class=\"data row10 col3\" >0.067725</td>\n",
       "      <td id=\"T_d8cd7_row10_col4\" class=\"data row10 col4\" >-0.000928</td>\n",
       "      <td id=\"T_d8cd7_row10_col5\" class=\"data row10 col5\" >0.005177</td>\n",
       "      <td id=\"T_d8cd7_row10_col6\" class=\"data row10 col6\" >0.010298</td>\n",
       "      <td id=\"T_d8cd7_row10_col7\" class=\"data row10 col7\" >-0.004799</td>\n",
       "      <td id=\"T_d8cd7_row10_col8\" class=\"data row10 col8\" >0.033610</td>\n",
       "      <td id=\"T_d8cd7_row10_col9\" class=\"data row10 col9\" >-0.027277</td>\n",
       "      <td id=\"T_d8cd7_row10_col10\" class=\"data row10 col10\" >1.000000</td>\n",
       "      <td id=\"T_d8cd7_row10_col11\" class=\"data row10 col11\" >0.340077</td>\n",
       "      <td id=\"T_d8cd7_row10_col12\" class=\"data row10 col12\" >0.025870</td>\n",
       "      <td id=\"T_d8cd7_row10_col13\" class=\"data row10 col13\" >-0.015533</td>\n",
       "    </tr>\n",
       "    <tr>\n",
       "      <th id=\"T_d8cd7_level0_row11\" class=\"row_heading level0 row11\" >alco</th>\n",
       "      <td id=\"T_d8cd7_row11_col0\" class=\"data row11 col0\" >-0.029735</td>\n",
       "      <td id=\"T_d8cd7_row11_col1\" class=\"data row11 col1\" >0.170950</td>\n",
       "      <td id=\"T_d8cd7_row11_col2\" class=\"data row11 col2\" >0.094425</td>\n",
       "      <td id=\"T_d8cd7_row11_col3\" class=\"data row11 col3\" >0.067071</td>\n",
       "      <td id=\"T_d8cd7_row11_col4\" class=\"data row11 col4\" >0.001403</td>\n",
       "      <td id=\"T_d8cd7_row11_col5\" class=\"data row11 col5\" >0.010594</td>\n",
       "      <td id=\"T_d8cd7_row11_col6\" class=\"data row11 col6\" >0.035718</td>\n",
       "      <td id=\"T_d8cd7_row11_col7\" class=\"data row11 col7\" >0.011214</td>\n",
       "      <td id=\"T_d8cd7_row11_col8\" class=\"data row11 col8\" >0.043335</td>\n",
       "      <td id=\"T_d8cd7_row11_col9\" class=\"data row11 col9\" >0.014347</td>\n",
       "      <td id=\"T_d8cd7_row11_col10\" class=\"data row11 col10\" >0.340077</td>\n",
       "      <td id=\"T_d8cd7_row11_col11\" class=\"data row11 col11\" >1.000000</td>\n",
       "      <td id=\"T_d8cd7_row11_col12\" class=\"data row11 col12\" >0.025486</td>\n",
       "      <td id=\"T_d8cd7_row11_col13\" class=\"data row11 col13\" >-0.007366</td>\n",
       "    </tr>\n",
       "    <tr>\n",
       "      <th id=\"T_d8cd7_level0_row12\" class=\"row_heading level0 row12\" >active</th>\n",
       "      <td id=\"T_d8cd7_row12_col0\" class=\"data row12 col0\" >-0.009918</td>\n",
       "      <td id=\"T_d8cd7_row12_col1\" class=\"data row12 col1\" >0.005917</td>\n",
       "      <td id=\"T_d8cd7_row12_col2\" class=\"data row12 col2\" >-0.006569</td>\n",
       "      <td id=\"T_d8cd7_row12_col3\" class=\"data row12 col3\" >-0.016863</td>\n",
       "      <td id=\"T_d8cd7_row12_col4\" class=\"data row12 col4\" >-0.000031</td>\n",
       "      <td id=\"T_d8cd7_row12_col5\" class=\"data row12 col5\" >0.004784</td>\n",
       "      <td id=\"T_d8cd7_row12_col6\" class=\"data row12 col6\" >0.009927</td>\n",
       "      <td id=\"T_d8cd7_row12_col7\" class=\"data row12 col7\" >-0.006761</td>\n",
       "      <td id=\"T_d8cd7_row12_col8\" class=\"data row12 col8\" >0.002959</td>\n",
       "      <td id=\"T_d8cd7_row12_col9\" class=\"data row12 col9\" >-0.014264</td>\n",
       "      <td id=\"T_d8cd7_row12_col10\" class=\"data row12 col10\" >0.025870</td>\n",
       "      <td id=\"T_d8cd7_row12_col11\" class=\"data row12 col11\" >0.025486</td>\n",
       "      <td id=\"T_d8cd7_row12_col12\" class=\"data row12 col12\" >1.000000</td>\n",
       "      <td id=\"T_d8cd7_row12_col13\" class=\"data row12 col13\" >-0.035666</td>\n",
       "    </tr>\n",
       "    <tr>\n",
       "      <th id=\"T_d8cd7_level0_row13\" class=\"row_heading level0 row13\" >cardio</th>\n",
       "      <td id=\"T_d8cd7_row13_col0\" class=\"data row13 col0\" >0.238189</td>\n",
       "      <td id=\"T_d8cd7_row13_col1\" class=\"data row13 col1\" >0.008037</td>\n",
       "      <td id=\"T_d8cd7_row13_col2\" class=\"data row13 col2\" >-0.010871</td>\n",
       "      <td id=\"T_d8cd7_row13_col3\" class=\"data row13 col3\" >0.181599</td>\n",
       "      <td id=\"T_d8cd7_row13_col4\" class=\"data row13 col4\" >0.054475</td>\n",
       "      <td id=\"T_d8cd7_row13_col5\" class=\"data row13 col5\" >0.065717</td>\n",
       "      <td id=\"T_d8cd7_row13_col6\" class=\"data row13 col6\" >0.221119</td>\n",
       "      <td id=\"T_d8cd7_row13_col7\" class=\"data row13 col7\" >0.089268</td>\n",
       "      <td id=\"T_d8cd7_row13_col8\" class=\"data row13 col8\" >0.442920</td>\n",
       "      <td id=\"T_d8cd7_row13_col9\" class=\"data row13 col9\" >0.165597</td>\n",
       "      <td id=\"T_d8cd7_row13_col10\" class=\"data row13 col10\" >-0.015533</td>\n",
       "      <td id=\"T_d8cd7_row13_col11\" class=\"data row13 col11\" >-0.007366</td>\n",
       "      <td id=\"T_d8cd7_row13_col12\" class=\"data row13 col12\" >-0.035666</td>\n",
       "      <td id=\"T_d8cd7_row13_col13\" class=\"data row13 col13\" >1.000000</td>\n",
       "    </tr>\n",
       "  </tbody>\n",
       "</table>\n"
      ],
      "text/plain": [
       "<pandas.io.formats.style.Styler at 0x7fda68ed3e50>"
      ]
     },
     "execution_count": 12,
     "metadata": {},
     "output_type": "execute_result"
    }
   ],
   "source": [
    "train.corr().style.background_gradient(cmap = \"magma\")"
   ]
  },
  {
   "cell_type": "code",
   "execution_count": 13,
   "id": "b78bf7f4",
   "metadata": {},
   "outputs": [
    {
     "data": {
      "image/png": "[encoded data removed]",
      "text/plain": [
       "<Figure size 1440x720 with 2 Axes>"
      ]
     },
     "metadata": {},
     "output_type": "display_data"
    }
   ],
   "source": [
    "plt.figure(figsize = [20, 10], clear = True, facecolor = \"white\")\n",
    "sns.heatmap(train.corr(), annot = True, square = False, linewidths = 3,linecolor = \"white\", cmap = \"Set2\");"
   ]
  },
  {
   "cell_type": "code",
   "execution_count": 14,
   "id": "cf800652",
   "metadata": {},
   "outputs": [],
   "source": [
    "train['age'] = train['age']/365   #converting the age in years"
   ]
  },
  {
   "cell_type": "code",
   "execution_count": 15,
   "id": "1769462c",
   "metadata": {},
   "outputs": [
    {
     "data": {
      "text/plain": [
       "count    69976.000000\n",
       "mean        53.339589\n",
       "std          6.759930\n",
       "min         29.583562\n",
       "25%         48.394521\n",
       "50%         53.980822\n",
       "75%         58.430137\n",
       "max         64.967123\n",
       "Name: age, dtype: float64"
      ]
     },
     "execution_count": 15,
     "metadata": {},
     "output_type": "execute_result"
    }
   ],
   "source": [
    "train['age'].describe()"
   ]
  },
  {
   "cell_type": "code",
   "execution_count": 16,
   "id": "8f137009",
   "metadata": {},
   "outputs": [
    {
     "data": {
      "text/plain": [
       "<AxesSubplot:xlabel='Count', ylabel='age'>"
      ]
     },
     "execution_count": 16,
     "metadata": {},
     "output_type": "execute_result"
    },
    {
     "data": {
      "image/png": "[encoded data removed]",
      "text/plain": [
       "<Figure size 720x720 with 1 Axes>"
      ]
     },
     "metadata": {
      "needs_background": "light"
     },
     "output_type": "display_data"
    }
   ],
   "source": [
    "plt.figure(figsize = [10, 10], clear = True)\n",
    "sns.histplot(y='age',data=train,bins=20,hue='gender',multiple='dodge',shrink=.6)"
   ]
  },
  {
   "cell_type": "code",
   "execution_count": 17,
   "id": "923d94a9",
   "metadata": {},
   "outputs": [
    {
     "data": {
      "text/plain": [
       "count    69976.000000\n",
       "mean       164.359152\n",
       "std          8.211218\n",
       "min         55.000000\n",
       "25%        159.000000\n",
       "50%        165.000000\n",
       "75%        170.000000\n",
       "max        250.000000\n",
       "Name: height, dtype: float64"
      ]
     },
     "execution_count": 17,
     "metadata": {},
     "output_type": "execute_result"
    }
   ],
   "source": [
    "train['height'].describe()"
   ]
  },
  {
   "cell_type": "code",
   "execution_count": 18,
   "id": "7f28e703",
   "metadata": {},
   "outputs": [
    {
     "data": {
      "text/plain": [
       "count    69976.000000\n",
       "mean       164.359152\n",
       "std          8.211218\n",
       "min         55.000000\n",
       "25%        159.000000\n",
       "50%        165.000000\n",
       "75%        170.000000\n",
       "max        250.000000\n",
       "Name: height, dtype: float64"
      ]
     },
     "execution_count": 18,
     "metadata": {},
     "output_type": "execute_result"
    }
   ],
   "source": [
    "train['height'].describe()"
   ]
  },
  {
   "cell_type": "code",
   "execution_count": 19,
   "id": "944d126f",
   "metadata": {},
   "outputs": [
    {
     "data": {
      "text/plain": [
       "count    69976.000000\n",
       "mean       128.820453\n",
       "std        154.037729\n",
       "min       -150.000000\n",
       "25%        120.000000\n",
       "50%        120.000000\n",
       "75%        140.000000\n",
       "max      16020.000000\n",
       "Name: ap_hi, dtype: float64"
      ]
     },
     "execution_count": 19,
     "metadata": {},
     "output_type": "execute_result"
    }
   ],
   "source": [
    "train['ap_hi'].describe()"
   ]
  },
  {
   "cell_type": "code",
   "execution_count": 20,
   "id": "f1c9446b",
   "metadata": {},
   "outputs": [],
   "source": [
    "#keeping range from 0 to 220\n",
    "train = train[(train['ap_hi'] > 0) & (train['ap_hi']<=220)]"
   ]
  },
  {
   "cell_type": "code",
   "execution_count": 21,
   "id": "a5520c6d",
   "metadata": {},
   "outputs": [
    {
     "data": {
      "text/plain": [
       "<AxesSubplot:xlabel='Count', ylabel='ap_hi'>"
      ]
     },
     "execution_count": 21,
     "metadata": {},
     "output_type": "execute_result"
    },
    {
     "data": {
      "image/png": "[encoded data removed]",
      "text/plain": [
       "<Figure size 576x288 with 1 Axes>"
      ]
     },
     "metadata": {
      "needs_background": "light"
     },
     "output_type": "display_data"
    }
   ],
   "source": [
    "plt.figure(figsize = [8, 4], clear = True)\n",
    "sns.histplot(y='ap_hi',data=train,bins=10,hue='gender',multiple='dodge',shrink=.6)"
   ]
  },
  {
   "cell_type": "code",
   "execution_count": 22,
   "id": "0300908c",
   "metadata": {},
   "outputs": [
    {
     "data": {
      "text/plain": [
       "count    69921.000000\n",
       "mean        96.652637\n",
       "std        188.575430\n",
       "min        -70.000000\n",
       "25%         80.000000\n",
       "50%         80.000000\n",
       "75%         90.000000\n",
       "max      11000.000000\n",
       "Name: ap_lo, dtype: float64"
      ]
     },
     "execution_count": 22,
     "metadata": {},
     "output_type": "execute_result"
    }
   ],
   "source": [
    "train['ap_lo'].describe()"
   ]
  },
  {
   "cell_type": "code",
   "execution_count": 23,
   "id": "ee5c5f74",
   "metadata": {},
   "outputs": [],
   "source": [
    "#keeping range from 0 to 200\n",
    "train = train[(train['ap_lo'] > 0) & (train['ap_lo']<=200)]"
   ]
  },
  {
   "cell_type": "code",
   "execution_count": 24,
   "id": "ef36d074",
   "metadata": {},
   "outputs": [
    {
     "data": {
      "text/plain": [
       "<AxesSubplot:xlabel='Count', ylabel='ap_lo'>"
      ]
     },
     "execution_count": 24,
     "metadata": {},
     "output_type": "execute_result"
    },
    {
     "data": {
      "image/png": "[encoded data removed]",
      "text/plain": [
       "<Figure size 576x288 with 1 Axes>"
      ]
     },
     "metadata": {
      "needs_background": "light"
     },
     "output_type": "display_data"
    }
   ],
   "source": [
    "plt.figure(figsize = [8, 4], clear = True)\n",
    "sns.histplot(y='ap_lo',data=train,bins=10,hue='gender',multiple='dodge',shrink=.6)"
   ]
  },
  {
   "cell_type": "code",
   "execution_count": 26,
   "id": "0e67fd8f",
   "metadata": {},
   "outputs": [
    {
     "data": {
      "image/png": "[encoded data removed]",
      "text/plain": [
       "<Figure size 1440x1440 with 16 Axes>"
      ]
     },
     "metadata": {
      "needs_background": "light"
     },
     "output_type": "display_data"
    }
   ],
   "source": [
    "train.hist(figsize = (20, 20), bins = 12, legend = False);"
   ]
  },
  {
   "cell_type": "code",
   "execution_count": 29,
   "id": "161422a7",
   "metadata": {},
   "outputs": [
    {
     "data": {
      "image/png": "[encoded data removed]",
      "text/plain": [
       "<Figure size 416.775x288 with 1 Axes>"
      ]
     },
     "metadata": {
      "needs_background": "light"
     },
     "output_type": "display_data"
    }
   ],
   "source": [
    "sns.catplot(x = \"gender\",\n",
    "            y = \"age\",\n",
    "            hue = \"cardio\",\n",
    "            kind = \"boxen\",\n",
    "            color = '#B3EE22',\n",
    "            data = train, saturation = 1, height = 4, aspect = 1.3,\n",
    "            margin_titles = True).set(title = \"cardio by gender and age\");"
   ]
  },
  {
   "cell_type": "code",
   "execution_count": 30,
   "id": "5eb743a1",
   "metadata": {},
   "outputs": [
    {
     "data": {
      "image/png": "[encoded data removed]",
      "text/plain": [
       "<Figure size 416.775x288 with 1 Axes>"
      ]
     },
     "metadata": {
      "needs_background": "light"
     },
     "output_type": "display_data"
    }
   ],
   "source": [
    "sns.catplot(x = \"gender\",\n",
    "            y = \"age\",\n",
    "            hue = \"smoke\",\n",
    "            kind = \"boxen\",\n",
    "            color = '#468A85',\n",
    "            data = train, saturation = 1, height = 4, aspect = 1.3,\n",
    "            margin_titles = True).set(title = \"smoke by gender and age\");"
   ]
  },
  {
   "cell_type": "code",
   "execution_count": 32,
   "id": "42702f03",
   "metadata": {},
   "outputs": [
    {
     "name": "stdout",
     "output_type": "stream",
     "text": [
      "Requirement already satisfied: prettytable in /Users/stebono/opt/anaconda3/lib/python3.9/site-packages (3.3.0)\r\n",
      "Requirement already satisfied: wcwidth in /Users/stebono/opt/anaconda3/lib/python3.9/site-packages (from prettytable) (0.2.5)\r\n"
     ]
    }
   ],
   "source": [
    "from sklearn.preprocessing import MinMaxScaler, RobustScaler, StandardScaler #for standardization\n",
    "from sklearn.model_selection import train_test_split, GridSearchCV, cross_val_score\n",
    "from sklearn.metrics import confusion_matrix, classification_report\n",
    "from sklearn.metrics import plot_confusion_matrix\n",
    "from sklearn.ensemble import RandomForestClassifier\n",
    "from sklearn.svm import SVC\n",
    "from sklearn.neighbors import KNeighborsClassifier\n",
    "from xgboost import XGBClassifier\n",
    "!pip install prettytable\n",
    "from prettytable import PrettyTable\n",
    "# to ignore warnings\n",
    "import warnings\n",
    "warnings.filterwarnings(\"ignore\")"
   ]
  },
  {
   "cell_type": "markdown",
   "id": "3c198791",
   "metadata": {},
   "source": [
    "Select Dependent (label) and Independent (estimator) Variables"
   ]
  },
  {
   "cell_type": "code",
   "execution_count": 33,
   "id": "0147ca6f",
   "metadata": {},
   "outputs": [],
   "source": [
    "# select dependent variable (label)\n",
    "y = train[\"cardio\"]\n",
    "\n",
    "# select independent variable (estimator)\n",
    "X = train.drop(\"cardio\", axis = 1)"
   ]
  },
  {
   "cell_type": "markdown",
   "id": "62189516",
   "metadata": {},
   "source": [
    "Split the Dataset into Train and Test Sets\n"
   ]
  },
  {
   "cell_type": "code",
   "execution_count": 34,
   "id": "388028be",
   "metadata": {},
   "outputs": [],
   "source": [
    "X_train, X_test, y_train, y_test = train_test_split(X, y, test_size=0.3, random_state=101)"
   ]
  },
  {
   "cell_type": "markdown",
   "id": "53eeac59",
   "metadata": {},
   "source": [
    "Standardization process"
   ]
  },
  {
   "cell_type": "code",
   "execution_count": 35,
   "id": "600a5b1d",
   "metadata": {},
   "outputs": [],
   "source": [
    "scaler = MinMaxScaler()\n",
    "X_train = scaler.fit_transform(X_train)\n",
    "X_test = scaler.transform(X_test)"
   ]
  },
  {
   "cell_type": "markdown",
   "id": "5f267943",
   "metadata": {},
   "source": [
    "Random Forest model"
   ]
  },
  {
   "cell_type": "code",
   "execution_count": 36,
   "id": "ebbb614c",
   "metadata": {},
   "outputs": [
    {
     "data": {
      "text/plain": [
       "RandomForestClassifier(max_depth=10, n_estimators=1000, random_state=0)"
      ]
     },
     "execution_count": 36,
     "metadata": {},
     "output_type": "execute_result"
    }
   ],
   "source": [
    "rf_model = RandomForestClassifier(n_estimators = 1000,max_depth=10,random_state=0)\n",
    "rf_model.fit(X_train, y_train)"
   ]
  },
  {
   "cell_type": "markdown",
   "id": "09b00213",
   "metadata": {},
   "source": [
    "Classification report of model"
   ]
  },
  {
   "cell_type": "code",
   "execution_count": 37,
   "id": "f484dacf",
   "metadata": {},
   "outputs": [
    {
     "name": "stdout",
     "output_type": "stream",
     "text": [
      "              precision    recall  f1-score   support\n",
      "\n",
      "           0       0.72      0.78      0.75     10395\n",
      "           1       0.76      0.69      0.72     10291\n",
      "\n",
      "    accuracy                           0.74     20686\n",
      "   macro avg       0.74      0.74      0.74     20686\n",
      "weighted avg       0.74      0.74      0.74     20686\n",
      "\n"
     ]
    }
   ],
   "source": [
    "y_pred = rf_model.predict(X_test)\n",
    "print(classification_report(y_test, y_pred))"
   ]
  },
  {
   "cell_type": "code",
   "execution_count": 38,
   "id": "c81e4456",
   "metadata": {},
   "outputs": [
    {
     "name": "stdout",
     "output_type": "stream",
     "text": [
      "[[8122 2273]\n",
      " [3186 7105]]\n"
     ]
    },
    {
     "data": {
      "image/png": "[encoded data removed]",
      "text/plain": [
       "<Figure size 432x288 with 2 Axes>"
      ]
     },
     "metadata": {
      "needs_background": "light"
     },
     "output_type": "display_data"
    }
   ],
   "source": [
    "conf_mat = confusion_matrix(y_test, y_pred)\n",
    "print(conf_mat)\n",
    "\n",
    "sns.heatmap(conf_mat, square = True, annot = True, robust = True)\n",
    "plt.show()"
   ]
  },
  {
   "cell_type": "code",
   "execution_count": 39,
   "id": "03dab2f3",
   "metadata": {},
   "outputs": [
    {
     "data": {
      "text/plain": [
       "<sklearn.metrics._plot.confusion_matrix.ConfusionMatrixDisplay at 0x7fda4b733550>"
      ]
     },
     "execution_count": 39,
     "metadata": {},
     "output_type": "execute_result"
    },
    {
     "data": {
      "image/png": "[encoded data removed]",
      "text/plain": [
       "<Figure size 432x288 with 2 Axes>"
      ]
     },
     "metadata": {
      "needs_background": "light"
     },
     "output_type": "display_data"
    }
   ],
   "source": [
    "plot_confusion_matrix(rf_model, X_test, y_test, cmap = plt.cm.Blues, normalize = \"true\")"
   ]
  },
  {
   "cell_type": "markdown",
   "id": "de900e52",
   "metadata": {},
   "source": [
    "Support Vector Classifier model\n"
   ]
  },
  {
   "cell_type": "code",
   "execution_count": 40,
   "id": "ae887530",
   "metadata": {},
   "outputs": [],
   "source": [
    "svc_model = SVC()"
   ]
  },
  {
   "cell_type": "code",
   "execution_count": 41,
   "id": "1b218941",
   "metadata": {},
   "outputs": [
    {
     "data": {
      "text/plain": [
       "SVC()"
      ]
     },
     "execution_count": 41,
     "metadata": {},
     "output_type": "execute_result"
    }
   ],
   "source": [
    "svc_model.fit(X_train,y_train)"
   ]
  },
  {
   "cell_type": "markdown",
   "id": "c638c281",
   "metadata": {},
   "source": [
    "Classification report of model"
   ]
  },
  {
   "cell_type": "code",
   "execution_count": 42,
   "id": "33a37e85",
   "metadata": {},
   "outputs": [
    {
     "name": "stdout",
     "output_type": "stream",
     "text": [
      "              precision    recall  f1-score   support\n",
      "\n",
      "           0       0.71      0.75      0.73     10395\n",
      "           1       0.73      0.69      0.71     10291\n",
      "\n",
      "    accuracy                           0.72     20686\n",
      "   macro avg       0.72      0.72      0.72     20686\n",
      "weighted avg       0.72      0.72      0.72     20686\n",
      "\n"
     ]
    }
   ],
   "source": [
    "y_pred = svc_model.predict(X_test)\n",
    "print(classification_report(y_test, y_pred))"
   ]
  },
  {
   "cell_type": "code",
   "execution_count": 43,
   "id": "c761f8da",
   "metadata": {},
   "outputs": [
    {
     "name": "stdout",
     "output_type": "stream",
     "text": [
      "[[7780 2615]\n",
      " [3156 7135]]\n"
     ]
    },
    {
     "data": {
      "image/png": "[encoded data removed]",
      "text/plain": [
       "<Figure size 432x288 with 2 Axes>"
      ]
     },
     "metadata": {
      "needs_background": "light"
     },
     "output_type": "display_data"
    }
   ],
   "source": [
    "conf_mat = confusion_matrix(y_test, y_pred)\n",
    "print(conf_mat)\n",
    "\n",
    "sns.heatmap(conf_mat, square = True, annot = True, robust = True)\n",
    "plt.show()"
   ]
  },
  {
   "cell_type": "code",
   "execution_count": 44,
   "id": "096c8507",
   "metadata": {},
   "outputs": [
    {
     "data": {
      "text/plain": [
       "<sklearn.metrics._plot.confusion_matrix.ConfusionMatrixDisplay at 0x7fda4c4a0b80>"
      ]
     },
     "execution_count": 44,
     "metadata": {},
     "output_type": "execute_result"
    },
    {
     "data": {
      "image/png": "[encoded data removed]",
      "text/plain": [
       "<Figure size 432x288 with 2 Axes>"
      ]
     },
     "metadata": {
      "needs_background": "light"
     },
     "output_type": "display_data"
    }
   ],
   "source": [
    "plot_confusion_matrix(svc_model, X_test, y_test, cmap = plt.cm.Blues, normalize = \"true\")"
   ]
  },
  {
   "cell_type": "markdown",
   "id": "b88a4d06",
   "metadata": {},
   "source": [
    "K Neighbors Classifier"
   ]
  },
  {
   "cell_type": "code",
   "execution_count": 45,
   "id": "52f7221b",
   "metadata": {},
   "outputs": [],
   "source": [
    "knn = KNeighborsClassifier(n_neighbors=1)"
   ]
  },
  {
   "cell_type": "code",
   "execution_count": 46,
   "id": "35d41c0a",
   "metadata": {},
   "outputs": [
    {
     "data": {
      "text/plain": [
       "KNeighborsClassifier(n_neighbors=1)"
      ]
     },
     "execution_count": 46,
     "metadata": {},
     "output_type": "execute_result"
    }
   ],
   "source": [
    "knn.fit(X_train,y_train)"
   ]
  },
  {
   "cell_type": "code",
   "execution_count": 47,
   "id": "23b08bb2",
   "metadata": {},
   "outputs": [],
   "source": [
    "y_pred = knn.predict(X_test)"
   ]
  },
  {
   "cell_type": "code",
   "execution_count": 48,
   "id": "c20aec5d",
   "metadata": {},
   "outputs": [
    {
     "name": "stdout",
     "output_type": "stream",
     "text": [
      "              precision    recall  f1-score   support\n",
      "\n",
      "           0       0.64      0.65      0.64     10395\n",
      "           1       0.64      0.63      0.64     10291\n",
      "\n",
      "    accuracy                           0.64     20686\n",
      "   macro avg       0.64      0.64      0.64     20686\n",
      "weighted avg       0.64      0.64      0.64     20686\n",
      "\n"
     ]
    }
   ],
   "source": [
    "print(classification_report(y_test, y_pred))"
   ]
  },
  {
   "cell_type": "code",
   "execution_count": 49,
   "id": "db373f0d",
   "metadata": {},
   "outputs": [
    {
     "name": "stdout",
     "output_type": "stream",
     "text": [
      "[[6718 3677]\n",
      " [3769 6522]]\n"
     ]
    },
    {
     "data": {
      "image/png": "[encoded data removed]",
      "text/plain": [
       "<Figure size 432x288 with 2 Axes>"
      ]
     },
     "metadata": {
      "needs_background": "light"
     },
     "output_type": "display_data"
    }
   ],
   "source": [
    "conf_mat = confusion_matrix(y_test, y_pred)\n",
    "print(conf_mat)\n",
    "\n",
    "sns.heatmap(conf_mat, square = True, annot = True, robust = True)\n",
    "plt.show()"
   ]
  },
  {
   "cell_type": "code",
   "execution_count": 50,
   "id": "702b6a51",
   "metadata": {},
   "outputs": [
    {
     "data": {
      "text/plain": [
       "<sklearn.metrics._plot.confusion_matrix.ConfusionMatrixDisplay at 0x7fda598a11f0>"
      ]
     },
     "execution_count": 50,
     "metadata": {},
     "output_type": "execute_result"
    },
    {
     "data": {
      "image/png": "[encoded data removed]",
      "text/plain": [
       "<Figure size 432x288 with 2 Axes>"
      ]
     },
     "metadata": {
      "needs_background": "light"
     },
     "output_type": "display_data"
    }
   ],
   "source": [
    "plot_confusion_matrix(knn, X_test, y_test, cmap = plt.cm.Blues, normalize = \"true\")"
   ]
  },
  {
   "cell_type": "markdown",
   "id": "f455c194",
   "metadata": {},
   "source": [
    "# Summary of results:\n",
    "\n",
    "Random Forest model: Accuracy= 74%\n",
    "\n",
    "SVC model: Accuracy: Accuracy= 72%\n",
    "\n",
    "KNN model: Accuracy= 64%"
   ]
  },
  {
   "cell_type": "code",
   "execution_count": null,
   "id": "736184ab",
   "metadata": {},
   "outputs": [],
   "source": []
  }
 ],
 "metadata": {
  "kernelspec": {
   "display_name": "Python 3 (ipykernel)",
   "language": "python",
   "name": "python3"
  },
  "language_info": {
   "codemirror_mode": {
    "name": "ipython",
    "version": 3
   },
   "file_extension": ".py",
   "mimetype": "text/x-python",
   "name": "python",
   "nbconvert_exporter": "python",
   "pygments_lexer": "ipython3",
   "version": "3.9.12"
  }
 },
 "nbformat": 4,
 "nbformat_minor": 5
}

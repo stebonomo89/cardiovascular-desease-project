{
 "cells": [
  {
   "cell_type": "markdown",
   "id": "64d30c8a",
   "metadata": {},
   "source": [
    "# CARDIOVASCULAR DISEASE - CLASSIFICATION TECHNIQUES\n",
    "\n",
    "This is a dataset containing 12 explanatory variables describing patients.\n",
    "data set available at this link: https://www.kaggle.com/datasets/sulianova/cardiovascular-disease-dataset\n",
    "\n",
    "Here I will compare several classification techniques:\n",
    "\n",
    "Random Forest model\n",
    "SVC model and GridsearchCV\n",
    "KNN model\n",
    "\n",
    "\n",
    "Data features:\n",
    "\n",
    "Age | Objective Feature | age | int (days)\n",
    "\n",
    "Height | Objective Feature | height | int (cm) |\n",
    "\n",
    "Weight | Objective Feature | weight | float (kg) |\n",
    "\n",
    "Gender | Objective Feature | gender | categorical code |\n",
    "\n",
    "Systolic blood pressure | Examination Feature | ap_hi | int |\n",
    "\n",
    "Diastolic blood pressure | Examination Feature | ap_lo | int |\n",
    "\n",
    "Cholesterol | Examination Feature | cholesterol | 1: normal, 2: above normal, 3: well above normal |\n",
    "\n",
    "Glucose | Examination Feature | gluc | 1: normal, 2: above normal, 3: well above normal |\n",
    "\n",
    "Smoking | Subjective Feature | smoke | binary |\n",
    "\n",
    "Alcohol intake | Subjective Feature | alco | binary |\n",
    "\n",
    "Physical activity | Subjective Feature | active | binary |\n",
    "\n",
    "Presence or absence of cardiovascular disease | Target Variable | cardio | binary |"
   ]
  },
  {
   "cell_type": "code",
   "execution_count": null,
   "id": "1f5409ba",
   "metadata": {},
   "outputs": [],
   "source": [
    "import numpy as np\n",
    "import pandas as pd\n",
    "import plotly.express as px\n",
    "import plotly.graph_objects as go\n",
    "import seaborn as sns\n",
    "import matplotlib.pyplot as plt\n",
    "%matplotlib inline"
   ]
  },
  {
   "cell_type": "code",
   "execution_count": null,
   "id": "92b405c0",
   "metadata": {},
   "outputs": [],
   "source": [
    "train = pd.read_csv('cardio_train.csv',delimiter = ';',index_col= 'id')\n",
    "train.head(n = 10).style.background_gradient(cmap = \"Oranges\")"
   ]
  },
  {
   "cell_type": "code",
   "execution_count": null,
   "id": "aeb3e03d",
   "metadata": {},
   "outputs": [],
   "source": [
    "train.info()"
   ]
  },
  {
   "cell_type": "code",
   "execution_count": null,
   "id": "1fc0adc2",
   "metadata": {},
   "outputs": [],
   "source": [
    "plt.figure(figsize=(15,15))\n",
    "sns.heatmap(train.isnull(),cmap='viridis')"
   ]
  },
  {
   "cell_type": "markdown",
   "id": "25259361",
   "metadata": {},
   "source": [
    "Adding two useful columns: body mass index and blood pressure category"
   ]
  },
  {
   "cell_type": "code",
   "execution_count": null,
   "id": "c0d84bc9",
   "metadata": {},
   "outputs": [],
   "source": [
    "train.insert(8, 'bmi', round((train['weight']/(train['height']/100)**2), 2))"
   ]
  },
  {
   "cell_type": "code",
   "execution_count": null,
   "id": "0671d707",
   "metadata": {},
   "outputs": [],
   "source": [
    "def BPCategorize(x,y):\n",
    "    if x<=120 and y<=80:\n",
    "        return 0\n",
    "    elif x<=129 and y<=80:\n",
    "        return 1\n",
    "    elif x<=139 or y<=89:\n",
    "        return 2\n",
    "    elif x<=180 or y<=120:\n",
    "        return 3\n",
    "    elif x>180 or y>120:\n",
    "        return 4\n",
    "    else:\n",
    "        return None\n",
    "    \n",
    "train.insert(8, \"bp_cat\", train.apply(lambda row: BPCategorize(row['ap_hi'], row['ap_lo']), axis=1))\n",
    "train['bp_cat'].value_counts()"
   ]
  },
  {
   "cell_type": "code",
   "execution_count": null,
   "id": "4665d37b",
   "metadata": {},
   "outputs": [],
   "source": [
    "train"
   ]
  },
  {
   "cell_type": "code",
   "execution_count": null,
   "id": "3901b170",
   "metadata": {},
   "outputs": [],
   "source": [
    "train.duplicated().sum()"
   ]
  },
  {
   "cell_type": "code",
   "execution_count": null,
   "id": "3619df8c",
   "metadata": {},
   "outputs": [],
   "source": [
    "train.drop_duplicates(inplace=True)"
   ]
  },
  {
   "cell_type": "code",
   "execution_count": null,
   "id": "f16f33f2",
   "metadata": {},
   "outputs": [],
   "source": [
    "train.describe().T.style.background_gradient(cmap = \"magma\")"
   ]
  },
  {
   "cell_type": "code",
   "execution_count": null,
   "id": "85b26b7c",
   "metadata": {},
   "outputs": [],
   "source": [
    "train.corr().style.background_gradient(cmap = \"magma\")"
   ]
  },
  {
   "cell_type": "code",
   "execution_count": null,
   "id": "b78bf7f4",
   "metadata": {},
   "outputs": [],
   "source": [
    "plt.figure(figsize = [20, 10], clear = True, facecolor = \"white\")\n",
    "sns.heatmap(train.corr(), annot = True, square = False, linewidths = 3,linecolor = \"white\", cmap = \"Set2\");"
   ]
  },
  {
   "cell_type": "code",
   "execution_count": null,
   "id": "cf800652",
   "metadata": {},
   "outputs": [],
   "source": [
    "train['age'] = train['age']/365   #converting the age in years"
   ]
  },
  {
   "cell_type": "code",
   "execution_count": null,
   "id": "1769462c",
   "metadata": {},
   "outputs": [],
   "source": [
    "train['age'].describe()"
   ]
  },
  {
   "cell_type": "code",
   "execution_count": null,
   "id": "8f137009",
   "metadata": {},
   "outputs": [],
   "source": [
    "plt.figure(figsize = [10, 10], clear = True)\n",
    "sns.histplot(y='age',data=train,bins=20,hue='gender',multiple='dodge',shrink=.6)"
   ]
  },
  {
   "cell_type": "code",
   "execution_count": null,
   "id": "923d94a9",
   "metadata": {},
   "outputs": [],
   "source": [
    "train['height'].describe()"
   ]
  },
  {
   "cell_type": "code",
   "execution_count": null,
   "id": "7f28e703",
   "metadata": {},
   "outputs": [],
   "source": [
    "train['height'].describe()"
   ]
  },
  {
   "cell_type": "code",
   "execution_count": null,
   "id": "944d126f",
   "metadata": {},
   "outputs": [],
   "source": [
    "train['ap_hi'].describe()"
   ]
  },
  {
   "cell_type": "code",
   "execution_count": null,
   "id": "f1c9446b",
   "metadata": {},
   "outputs": [],
   "source": [
    "#keeping range from 0 to 220\n",
    "train = train[(train['ap_hi'] > 0) & (train['ap_hi']<=220)]"
   ]
  },
  {
   "cell_type": "code",
   "execution_count": null,
   "id": "a5520c6d",
   "metadata": {},
   "outputs": [],
   "source": [
    "plt.figure(figsize = [8, 4], clear = True)\n",
    "sns.histplot(y='ap_hi',data=train,bins=10,hue='gender',multiple='dodge',shrink=.6)"
   ]
  },
  {
   "cell_type": "code",
   "execution_count": null,
   "id": "0300908c",
   "metadata": {},
   "outputs": [],
   "source": [
    "train['ap_lo'].describe()"
   ]
  },
  {
   "cell_type": "code",
   "execution_count": null,
   "id": "ee5c5f74",
   "metadata": {},
   "outputs": [],
   "source": [
    "#keeping range from 0 to 200\n",
    "train = train[(train['ap_lo'] > 0) & (train['ap_lo']<=200)]"
   ]
  },
  {
   "cell_type": "code",
   "execution_count": null,
   "id": "ef36d074",
   "metadata": {},
   "outputs": [],
   "source": [
    "plt.figure(figsize = [8, 4], clear = True)\n",
    "sns.histplot(y='ap_lo',data=train,bins=10,hue='gender',multiple='dodge',shrink=.6)"
   ]
  },
  {
   "cell_type": "code",
   "execution_count": null,
   "id": "5ac66b45",
   "metadata": {},
   "outputs": [],
   "source": [
    "sns.pairplot(train, diag_kind = \"hist\", height = 4, aspect = 1, corner = True);"
   ]
  },
  {
   "cell_type": "code",
   "execution_count": null,
   "id": "0e67fd8f",
   "metadata": {},
   "outputs": [],
   "source": [
    "train.hist(figsize = (20, 20), bins = 12, legend = False);"
   ]
  },
  {
   "cell_type": "code",
   "execution_count": null,
   "id": "3725180c",
   "metadata": {},
   "outputs": [],
   "source": [
    "plt.figure(figsize = [10, 4], clear = True)\n",
    "fig = px.histogram(train, x = \"age\",\n",
    "                   y = \"smoke\",                   \n",
    "                   marginal = \"box\",\n",
    "                   color = \"gender\", hover_data  = train.columns)\n",
    "fig.show()\n"
   ]
  },
  {
   "cell_type": "code",
   "execution_count": null,
   "id": "94ebe87a",
   "metadata": {},
   "outputs": [],
   "source": [
    "plt.figure(figsize = [20, 20], clear = True)\n",
    "fig = px.density_heatmap(train, x = \"active\", y = \"age\", z = \"cardio\",\n",
    "                        color_continuous_scale = \"picnic\", text_auto = True)\n",
    "fig.show()"
   ]
  },
  {
   "cell_type": "code",
   "execution_count": null,
   "id": "161422a7",
   "metadata": {},
   "outputs": [],
   "source": [
    "sns.catplot(x = \"gender\",\n",
    "            y = \"age\",\n",
    "            hue = \"cardio\",\n",
    "            kind = \"boxen\",\n",
    "            color = '#B3EE22',\n",
    "            data = train, saturation = 1, height = 4, aspect = 1.3,\n",
    "            margin_titles = True).set(title = \"cardio by gender and age\");"
   ]
  },
  {
   "cell_type": "code",
   "execution_count": null,
   "id": "5eb743a1",
   "metadata": {},
   "outputs": [],
   "source": [
    "sns.catplot(x = \"gender\",\n",
    "            y = \"age\",\n",
    "            hue = \"smoke\",\n",
    "            kind = \"boxen\",\n",
    "            color = '#468A85',\n",
    "            data = train, saturation = 1, height = 4, aspect = 1.3,\n",
    "            margin_titles = True).set(title = \"smoke by gender and age\");"
   ]
  },
  {
   "cell_type": "code",
   "execution_count": null,
   "id": "b5bb116e",
   "metadata": {},
   "outputs": [],
   "source": [
    "fig = px.scatter_3d(train, \n",
    "                    x = \"weight\",\n",
    "                    y = \"age\",\n",
    "                    z = \"smoke\",\n",
    "                    color=\"cardio\")\n",
    "fig.show();"
   ]
  },
  {
   "cell_type": "code",
   "execution_count": null,
   "id": "42702f03",
   "metadata": {},
   "outputs": [],
   "source": [
    "from sklearn.preprocessing import MinMaxScaler, RobustScaler, StandardScaler #for standardization\n",
    "from sklearn.model_selection import train_test_split, GridSearchCV, cross_val_score\n",
    "from sklearn.metrics import confusion_matrix, classification_report\n",
    "from sklearn.metrics import plot_confusion_matrix\n",
    "from sklearn.ensemble import RandomForestClassifier\n",
    "from sklearn.svm import SVC\n",
    "from sklearn.neighbors import KNeighborsClassifier\n",
    "from xgboost import XGBClassifier\n",
    "!pip install prettytable\n",
    "from prettytable import PrettyTable\n",
    "# to ignore warnings\n",
    "import warnings\n",
    "warnings.filterwarnings(\"ignore\")"
   ]
  },
  {
   "cell_type": "markdown",
   "id": "3c198791",
   "metadata": {},
   "source": [
    "Select Dependent (label) and Independent (estimator) Variables"
   ]
  },
  {
   "cell_type": "code",
   "execution_count": null,
   "id": "0147ca6f",
   "metadata": {},
   "outputs": [],
   "source": [
    "# select dependent variable (label)\n",
    "y = train[\"cardio\"]\n",
    "\n",
    "# select independent variable (estimator)\n",
    "X = train.drop(\"cardio\", axis = 1)"
   ]
  },
  {
   "cell_type": "markdown",
   "id": "62189516",
   "metadata": {},
   "source": [
    "Split the Dataset into Train and Test Sets\n"
   ]
  },
  {
   "cell_type": "code",
   "execution_count": null,
   "id": "388028be",
   "metadata": {},
   "outputs": [],
   "source": [
    "X_train, X_test, y_train, y_test = train_test_split(X, y, test_size=0.3, random_state=101)"
   ]
  },
  {
   "cell_type": "markdown",
   "id": "53eeac59",
   "metadata": {},
   "source": [
    "Standardization process"
   ]
  },
  {
   "cell_type": "code",
   "execution_count": null,
   "id": "600a5b1d",
   "metadata": {},
   "outputs": [],
   "source": [
    "scaler = MinMaxScaler()\n",
    "X_train = scaler.fit_transform(X_train)\n",
    "X_test = scaler.transform(X_test)"
   ]
  },
  {
   "cell_type": "markdown",
   "id": "5f267943",
   "metadata": {},
   "source": [
    "Random Forest model"
   ]
  },
  {
   "cell_type": "code",
   "execution_count": null,
   "id": "ebbb614c",
   "metadata": {},
   "outputs": [],
   "source": [
    "rf_model = RandomForestClassifier(n_estimators = 1000,max_depth=10,random_state=0)\n",
    "rf_model.fit(X_train, y_train)"
   ]
  },
  {
   "cell_type": "markdown",
   "id": "09b00213",
   "metadata": {},
   "source": [
    "Classification report of model"
   ]
  },
  {
   "cell_type": "code",
   "execution_count": null,
   "id": "f484dacf",
   "metadata": {},
   "outputs": [],
   "source": [
    "y_pred = rf_model.predict(X_test)\n",
    "print(classification_report(y_test, y_pred))"
   ]
  },
  {
   "cell_type": "code",
   "execution_count": null,
   "id": "c81e4456",
   "metadata": {},
   "outputs": [],
   "source": [
    "conf_mat = confusion_matrix(y_test, y_pred)\n",
    "print(conf_mat)\n",
    "\n",
    "sns.heatmap(conf_mat, square = True, annot = True, robust = True)\n",
    "plt.show()"
   ]
  },
  {
   "cell_type": "code",
   "execution_count": null,
   "id": "03dab2f3",
   "metadata": {},
   "outputs": [],
   "source": [
    "plot_confusion_matrix(rf_model, X_test, y_test, cmap = plt.cm.Blues, normalize = \"true\")"
   ]
  },
  {
   "cell_type": "markdown",
   "id": "de900e52",
   "metadata": {},
   "source": [
    "Support Vector Classifier model\n"
   ]
  },
  {
   "cell_type": "code",
   "execution_count": null,
   "id": "ae887530",
   "metadata": {},
   "outputs": [],
   "source": [
    "svc_model = SVC()"
   ]
  },
  {
   "cell_type": "code",
   "execution_count": null,
   "id": "1b218941",
   "metadata": {},
   "outputs": [],
   "source": [
    "svc_model.fit(X_train,y_train)"
   ]
  },
  {
   "cell_type": "markdown",
   "id": "c638c281",
   "metadata": {},
   "source": [
    "Classification report of model"
   ]
  },
  {
   "cell_type": "code",
   "execution_count": null,
   "id": "33a37e85",
   "metadata": {},
   "outputs": [],
   "source": [
    "y_pred = svc_model.predict(X_test)\n",
    "print(classification_report(y_test, y_pred))"
   ]
  },
  {
   "cell_type": "code",
   "execution_count": null,
   "id": "c761f8da",
   "metadata": {},
   "outputs": [],
   "source": [
    "conf_mat = confusion_matrix(y_test, y_pred)\n",
    "print(conf_mat)\n",
    "\n",
    "sns.heatmap(conf_mat, square = True, annot = True, robust = True)\n",
    "plt.show()"
   ]
  },
  {
   "cell_type": "code",
   "execution_count": null,
   "id": "096c8507",
   "metadata": {},
   "outputs": [],
   "source": [
    "plot_confusion_matrix(svc_model, X_test, y_test, cmap = plt.cm.Blues, normalize = \"true\")"
   ]
  },
  {
   "cell_type": "code",
   "execution_count": null,
   "id": "60715b58",
   "metadata": {},
   "outputs": [],
   "source": []
  },
  {
   "cell_type": "code",
   "execution_count": null,
   "id": "aacc8f2b",
   "metadata": {},
   "outputs": [],
   "source": [
    "param_grid={'C':[100,150],'gamma':[0.0001,0.00001]}\n"
   ]
  },
  {
   "cell_type": "code",
   "execution_count": null,
   "id": "7ca157dc",
   "metadata": {},
   "outputs": [],
   "source": [
    "grid = GridSearchCV(SVC(),param_grid,verbose=20)\n",
    "grid.fit(X_train,y_train)"
   ]
  },
  {
   "cell_type": "markdown",
   "id": "a64144f4",
   "metadata": {},
   "source": [
    "Classification report of model"
   ]
  },
  {
   "cell_type": "code",
   "execution_count": null,
   "id": "8462e8c3",
   "metadata": {},
   "outputs": [],
   "source": [
    "grid_predictions = grid.predict(X_test)\n",
    "print(classification_report(y_test, grid_predictions))"
   ]
  },
  {
   "cell_type": "code",
   "execution_count": null,
   "id": "1720c761",
   "metadata": {},
   "outputs": [],
   "source": [
    "conf_mat = confusion_matrix(y_test, grid_predictions)\n",
    "print(conf_mat)\n",
    "\n",
    "sns.heatmap(conf_mat, square = True, annot = True, robust = True)\n",
    "plt.show()"
   ]
  },
  {
   "cell_type": "code",
   "execution_count": null,
   "id": "338bb549",
   "metadata": {},
   "outputs": [],
   "source": [
    "plot_confusion_matrix(grid, X_test, y_test, cmap = plt.cm.Blues, normalize = \"true\")"
   ]
  },
  {
   "cell_type": "markdown",
   "id": "b88a4d06",
   "metadata": {},
   "source": [
    "K Neighbors Classifier"
   ]
  },
  {
   "cell_type": "code",
   "execution_count": null,
   "id": "52f7221b",
   "metadata": {},
   "outputs": [],
   "source": [
    "knn = KNeighborsClassifier(n_neighbors=1)"
   ]
  },
  {
   "cell_type": "code",
   "execution_count": null,
   "id": "35d41c0a",
   "metadata": {},
   "outputs": [],
   "source": [
    "knn.fit(X_train,y_train)"
   ]
  },
  {
   "cell_type": "code",
   "execution_count": null,
   "id": "23b08bb2",
   "metadata": {},
   "outputs": [],
   "source": [
    "y_pred = knn.predict(X_test)"
   ]
  },
  {
   "cell_type": "code",
   "execution_count": null,
   "id": "c20aec5d",
   "metadata": {},
   "outputs": [],
   "source": [
    "print(classification_report(y_test, y_pred))"
   ]
  },
  {
   "cell_type": "code",
   "execution_count": null,
   "id": "db373f0d",
   "metadata": {},
   "outputs": [],
   "source": [
    "conf_mat = confusion_matrix(y_test, y_pred)\n",
    "print(conf_mat)\n",
    "\n",
    "sns.heatmap(conf_mat, square = True, annot = True, robust = True)\n",
    "plt.show()"
   ]
  },
  {
   "cell_type": "code",
   "execution_count": null,
   "id": "702b6a51",
   "metadata": {},
   "outputs": [],
   "source": [
    "plot_confusion_matrix(knn, X_test, y_test, cmap = plt.cm.Blues, normalize = \"true\")"
   ]
  },
  {
   "cell_type": "markdown",
   "id": "f455c194",
   "metadata": {},
   "source": [
    "# Summary of results:\n",
    "Random Forest model: Accuracy= 74%\n",
    "\n",
    "SVC model: Accuracy: Accuracy= 72%\n",
    "\n",
    "SVC model with GridsearchCV: Accuracy= 71%\n",
    "\n",
    "KNN model: Accuracy= 64%"
   ]
  },
  {
   "cell_type": "code",
   "execution_count": null,
   "id": "736184ab",
   "metadata": {},
   "outputs": [],
   "source": []
  }
 ],
 "metadata": {
  "kernelspec": {
   "display_name": "Python 3 (ipykernel)",
   "language": "python",
   "name": "python3"
  },
  "language_info": {
   "codemirror_mode": {
    "name": "ipython",
    "version": 3
   },
   "file_extension": ".py",
   "mimetype": "text/x-python",
   "name": "python",
   "nbconvert_exporter": "python",
   "pygments_lexer": "ipython3",
   "version": "3.9.12"
  }
 },
 "nbformat": 4,
 "nbformat_minor": 5
}
